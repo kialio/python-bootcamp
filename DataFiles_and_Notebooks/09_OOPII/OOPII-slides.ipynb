{
 "metadata": {
  "celltoolbar": "Slideshow",
  "name": "",
  "signature": "sha256:e692ca8eec86a527d0bbda28f408bbbac0175b43d7aafe8f4f0c617e136e9525"
 },
 "nbformat": 3,
 "nbformat_minor": 0,
 "worksheets": [
  {
   "cells": [
    {
     "cell_type": "markdown",
     "metadata": {
      "slideshow": {
       "slide_type": "slide"
      }
     },
     "source": [
      "<img src=\"200px-NASA_logo.png\">\n",
      "<h1>Python's Class Development Toolkit</h1>\n",
      "\n",
      "## GSFC Python Bootcamp 2014\n",
      "\n",
      "Stephen Waterbury  \n",
      "Code 585 (Computing Environments and Collaborative Technologies)\n",
      "\n",
      "*Thanks to Raymond Hettinger for his PyCon 2013 tutorial\n",
      "from which this lecture was derived!*"
     ]
    },
    {
     "cell_type": "markdown",
     "metadata": {
      "slideshow": {
       "slide_type": "slide"
      }
     },
     "source": [
      "# In this session we will:"
     ]
    },
    {
     "cell_type": "markdown",
     "metadata": {
      "slideshow": {
       "slide_type": "fragment"
      }
     },
     "source": [
      "* Learn Python's development toolkit"
     ]
    },
    {
     "cell_type": "markdown",
     "metadata": {
      "slideshow": {
       "slide_type": "fragment"
      }
     },
     "source": [
      "* See some of the unexpected ways in which other users might exercise our classes"
     ]
    },
    {
     "cell_type": "markdown",
     "metadata": {
      "slideshow": {
       "slide_type": "fragment"
      }
     },
     "source": [
      "* Have a little fun teasing the followers of the Lean Startup Methodology"
     ]
    },
    {
     "cell_type": "markdown",
     "metadata": {
      "slideshow": {
       "slide_type": "slide"
      }
     },
     "source": [
      "# The New Software Methodology"
     ]
    },
    {
     "cell_type": "markdown",
     "metadata": {
      "slideshow": {
       "slide_type": "fragment"
      }
     },
     "source": [
      "* Out with the old: **Waterfall** (design, code, test, ship)"
     ]
    },
    {
     "cell_type": "markdown",
     "metadata": {
      "slideshow": {
       "slide_type": "fragment"
      }
     },
     "source": [
      "* In with the new: **Agile** (tight iterations, release early, release often)"
     ]
    },
    {
     "cell_type": "markdown",
     "metadata": {
      "slideshow": {
       "slide_type": "fragment"
      }
     },
     "source": [
      "* In **Agile** development, each iteration informs the next"
     ]
    },
    {
     "cell_type": "markdown",
     "metadata": {
      "slideshow": {
       "slide_type": "fragment"
      }
     },
     "source": [
      "* Thereby enabling quick adaptation to emerging circumstances and new requirements"
     ]
    },
    {
     "cell_type": "markdown",
     "metadata": {
      "slideshow": {
       "slide_type": "slide"
      }
     },
     "source": [
      "# Lean Startup"
     ]
    },
    {
     "cell_type": "markdown",
     "metadata": {
      "slideshow": {
       "slide_type": "fragment"
      }
     },
     "source": [
      "* Out with the old:\n",
      "  - raise capital for big idea\n",
      "  - spend it to develop big product\n",
      "  - go to market\n",
      "  - fail"
     ]
    },
    {
     "cell_type": "markdown",
     "metadata": {
      "slideshow": {
       "slide_type": "fragment"
      }
     },
     "source": [
      "* In with the new:\n",
      "  - ship minimal product early\n",
      "  - get customer feedback\n",
      "  - pivot\n",
      "  - iterate"
     ]
    },
    {
     "cell_type": "markdown",
     "metadata": {
      "slideshow": {
       "slide_type": "fragment"
      }
     },
     "source": [
      "* Lean Startup == Agile methodology applied to business"
     ]
    },
    {
     "cell_type": "markdown",
     "metadata": {
      "slideshow": {
       "slide_type": "slide"
      }
     },
     "source": [
      "# Graduation Dilemma"
     ]
    },
    {
     "cell_type": "markdown",
     "metadata": {
      "slideshow": {
       "slide_type": "fragment"
      }
     },
     "source": [
      "* Get a haircut and get a real job"
     ]
    },
    {
     "cell_type": "markdown",
     "metadata": {
      "slideshow": {
       "slide_type": "fragment"
      }
     },
     "source": [
      "* Be CEO of your own startup!"
     ]
    },
    {
     "cell_type": "markdown",
     "metadata": {
      "slideshow": {
       "slide_type": "slide"
      }
     },
     "source": [
      "# Company Name and Elevator Pitch"
     ]
    },
    {
     "cell_type": "code",
     "collapsed": false,
     "input": [
      "\"\"\"Circuminferential, LLC\n",
      "   An Advanced Circle Analytics Company\n",
      "\"\"\""
     ],
     "language": "python",
     "metadata": {
      "slideshow": {
       "slide_type": "fragment"
      }
     },
     "outputs": []
    },
    {
     "cell_type": "markdown",
     "metadata": {
      "slideshow": {
       "slide_type": "slide"
      }
     },
     "source": [
      "# Start coding:  Circle class"
     ]
    },
    {
     "cell_type": "code",
     "collapsed": false,
     "input": [
      "class Circle:\n",
      "    \"An advanced circle analytic toolkit\"\n",
      "\n",
      "    \n",
      "    \n",
      "# Hmm ... is that really advanced technology?"
     ],
     "language": "python",
     "metadata": {
      "slideshow": {
       "slide_type": "fragment"
      }
     },
     "outputs": []
    },
    {
     "cell_type": "markdown",
     "metadata": {
      "slideshow": {
       "slide_type": "slide"
      }
     },
     "source": [
      "# Ah, but let's use *new* style classes!"
     ]
    },
    {
     "cell_type": "code",
     "collapsed": false,
     "input": [
      "class Circle(object):                       # \"new-style\" class\n",
      "    \"An advanced circle analytic toolkit\"\n",
      "    \n",
      "    \n",
      "    \n",
      "# Yes, this is advanced technology!"
     ],
     "language": "python",
     "metadata": {
      "slideshow": {
       "slide_type": "fragment"
      }
     },
     "outputs": []
    },
    {
     "cell_type": "markdown",
     "metadata": {
      "slideshow": {
       "slide_type": "slide"
      }
     },
     "source": [
      "# Initialize instance variables"
     ]
    },
    {
     "cell_type": "code",
     "collapsed": false,
     "input": [
      "class Circle(object):\n",
      "    \"An advanced circle analytic toolkit\"\n",
      "    \n",
      "    def __init__(self, radius):\n",
      "        self.radius = radius     # instance variable\n",
      "    \n",
      "\n",
      "    \n",
      "# __init__ isn't a \"constructor\" --\n",
      "# its job is simply to initialize instance variables."
     ],
     "language": "python",
     "metadata": {
      "slideshow": {
       "slide_type": "fragment"
      }
     },
     "outputs": []
    },
    {
     "cell_type": "markdown",
     "metadata": {
      "slideshow": {
       "slide_type": "slide"
      }
     },
     "source": [
      "# Regular method"
     ]
    },
    {
     "cell_type": "code",
     "collapsed": false,
     "input": [
      "class Circle(object):\n",
      "    \"An advanced circle analytic toolkit\"\n",
      "    \n",
      "    def __init__(self, radius):\n",
      "        self.radius = radius\n",
      "        \n",
      "    def area(self):\n",
      "        \"Perform quadrature on myself.\"\n",
      "        return 3.14 * (self.radius ** 2.0)\n",
      "    \n",
      "\n",
      "    \n",
      "# regular methods have 'self' as first argument\n",
      "\n",
      "# Hmm ... what about the 3.14?"
     ],
     "language": "python",
     "metadata": {
      "slideshow": {
       "slide_type": "fragment"
      }
     },
     "outputs": []
    },
    {
     "cell_type": "markdown",
     "metadata": {
      "slideshow": {
       "slide_type": "slide"
      }
     },
     "source": [
      "# Modular components for code reuse"
     ]
    },
    {
     "cell_type": "code",
     "collapsed": false,
     "input": [
      "import math\n",
      "\n",
      "class Circle(object):\n",
      "    \"An advanced circle analytic toolkit\"\n",
      "    \n",
      "    def __init__(self, radius):\n",
      "        self.radius = radius\n",
      "        \n",
      "    def area(self):\n",
      "        \"Perform quadrature on myself.\"\n",
      "        return math.pi * (self.radius ** 2.0)\n",
      "    \n"
     ],
     "language": "python",
     "metadata": {
      "slideshow": {
       "slide_type": "fragment"
      }
     },
     "outputs": []
    },
    {
     "cell_type": "markdown",
     "metadata": {
      "slideshow": {
       "slide_type": "slide"
      }
     },
     "source": [
      "# Class variables for shared data"
     ]
    },
    {
     "cell_type": "code",
     "collapsed": false,
     "input": [
      "import math\n",
      "\n",
      "class Circle(object):\n",
      "    \"An advanced circle analytic toolkit\"\n",
      "    \n",
      "    version = '0.1'              # class variable\n",
      "    \n",
      "    def __init__(self, radius):\n",
      "        self.radius = radius\n",
      "        \n",
      "    def area(self):\n",
      "        \"Perform quadrature on a shape of uniform radius.\"\n",
      "        return math.pi * (self.radius ** 2.0)\n",
      "    \n"
     ],
     "language": "python",
     "metadata": {
      "slideshow": {
       "slide_type": "fragment"
      }
     },
     "outputs": []
    },
    {
     "cell_type": "markdown",
     "metadata": {
      "slideshow": {
       "slide_type": "slide"
      }
     },
     "source": [
      "# Minimum viable product:  ship it!"
     ]
    },
    {
     "cell_type": "code",
     "collapsed": false,
     "input": [
      "# Tutorial\n",
      "\n",
      "print 'Circuminferential version', Circle.version\n",
      "c = Circle(10)\n",
      "print 'A circle of radius', c.radius\n",
      "print 'has an area of', c.area()\n",
      "print"
     ],
     "language": "python",
     "metadata": {
      "slideshow": {
       "slide_type": "fragment"
      }
     },
     "outputs": []
    },
    {
     "cell_type": "markdown",
     "metadata": {
      "slideshow": {
       "slide_type": "slide"
      }
     },
     "source": [
      "# First customer:  Academia"
     ]
    },
    {
     "cell_type": "code",
     "collapsed": false,
     "input": [
      "from random import random, seed\n",
      "\n",
      "seed(8675309)\n",
      "print 'Using Circuminferential(tm) Circle, version', Circle.version\n",
      "n = 10\n",
      "circles = [Circle(random()) for i in xrange(n)]\n",
      "print 'The average area of', n, 'random circles'\n",
      "avg = sum(c.area() for c in circles) / n\n",
      "print 'is %.1f' % avg\n",
      "print"
     ],
     "language": "python",
     "metadata": {
      "slideshow": {
       "slide_type": "fragment"
      }
     },
     "outputs": []
    },
    {
     "cell_type": "markdown",
     "metadata": {
      "slideshow": {
       "slide_type": "slide"
      }
     },
     "source": [
      "# Next customer (a rubber sheet company) wants a perimeter method"
     ]
    },
    {
     "cell_type": "code",
     "collapsed": false,
     "input": [
      "import math\n",
      "\n",
      "class Circle(object):\n",
      "    \"An advanced circle analytic toolkit\"\n",
      "    \n",
      "    version = '0.2'     # change of API -> new version!\n",
      "    \n",
      "    def __init__(self, radius):\n",
      "        self.radius = radius\n",
      "        \n",
      "    def area(self):\n",
      "        \"Perform quadrature on myself.\"\n",
      "        return math.pi * (self.radius ** 2.0)\n",
      "    \n",
      "    def perimeter(self):\n",
      "        \"Find my perimeter.\"\n",
      "        return 2.0 * math.pi * self.radius\n"
     ],
     "language": "python",
     "metadata": {
      "slideshow": {
       "slide_type": "fragment"
      }
     },
     "outputs": []
    },
    {
     "cell_type": "markdown",
     "metadata": {
      "slideshow": {
       "slide_type": "slide"
      }
     },
     "source": [
      "# The rubber sheet company's code"
     ]
    },
    {
     "cell_type": "code",
     "collapsed": false,
     "input": [
      "cuts = [0.1, 0.7, 0.8]\n",
      "circles = [Circle(r) for r in cuts]\n",
      "for c in circles:\n",
      "    print 'a circlet with a radius of', c.radius\n",
      "    print 'has a perimeter of', c.perimeter()\n",
      "    print 'a cold area of', c.area()\n",
      "    c.radius *= 1.1\n",
      "    print 'and a warm area of', c.area()\n",
      "    print\n",
      "\n",
      "\n",
      "\n",
      "# Hmm ... how do we feel about exposing the radius attribute?"
     ],
     "language": "python",
     "metadata": {
      "slideshow": {
       "slide_type": "fragment"
      }
     },
     "outputs": []
    },
    {
     "cell_type": "markdown",
     "metadata": {
      "slideshow": {
       "slide_type": "slide"
      }
     },
     "source": [
      "# Third customer:  a national tire chain"
     ]
    },
    {
     "cell_type": "code",
     "collapsed": false,
     "input": [
      "class Tire(Circle):\n",
      "    \"Tire:  a circle with a corrected perimeter\"\n",
      "    \n",
      "    def perimeter(self):\n",
      "        \"Find my circumference (corrected for the rubber).\"\n",
      "        return Circle.perimeter(self) * 1.25\n",
      "    \n",
      "\n",
      "t = Tire(22)\n",
      "print \"A tire of radius\", t.radius\n",
      "print \"has an inner area of\", t.area()\n",
      "print \"and an odometer corrected perimeter of\", t.perimeter()\n",
      "print"
     ],
     "language": "python",
     "metadata": {
      "slideshow": {
       "slide_type": "fragment"
      }
     },
     "outputs": []
    },
    {
     "cell_type": "markdown",
     "metadata": {
      "slideshow": {
       "slide_type": "slide"
      }
     },
     "source": [
      "# Next customer:  a national graphics company"
     ]
    },
    {
     "cell_type": "code",
     "collapsed": false,
     "input": [
      "def bbd_to_radius(bbd):\n",
      "    \"Find radius of a circle with bounding box diagonal `d`.\"\n",
      "    return bbd / (2.0 * math.sqrt(2.0))\n",
      "\n",
      "bbd = 25.1\n",
      "c = Circle(bbd_to_radius(bbd))\n",
      "print \"A circle with a bbd of 25.1\"\n",
      "print \"has a radius of\", c.radius\n",
      "print \"and an area of\", c.area()\n",
      "print\n",
      "\n",
      "\n",
      "# The API is awkward.  A convertor function is always needed.\n",
      "# Perhaps change the constructor signature?"
     ],
     "language": "python",
     "metadata": {
      "slideshow": {
       "slide_type": "fragment"
      }
     },
     "outputs": []
    },
    {
     "cell_type": "markdown",
     "metadata": {
      "slideshow": {
       "slide_type": "slide"
      }
     },
     "source": [
      "# Need alternative constructors"
     ]
    },
    {
     "cell_type": "code",
     "collapsed": false,
     "input": [
      "from datetime import datetime\n",
      "\n",
      "print datetime(2013, 3, 16)\n",
      "# from POSIX timestamp (seconds from 1970 to 2038)\n",
      "print datetime.fromtimestamp(1363383616)\n",
      "# from the proleptic Gregorian ordinal (1/1/1 -> day 1)\n",
      "print datetime.fromordinal(734000)\n",
      "print datetime.now()\n",
      "print\n",
      "print dict.fromkeys(['spam', 'eggs', 'shrubbery'])"
     ],
     "language": "python",
     "metadata": {
      "slideshow": {
       "slide_type": "fragment"
      }
     },
     "outputs": []
    },
    {
     "cell_type": "markdown",
     "metadata": {
      "slideshow": {
       "slide_type": "slide"
      }
     },
     "source": [
      "# Class methods can be used to create alternative constructors"
     ]
    },
    {
     "cell_type": "code",
     "collapsed": false,
     "input": [
      "import math\n",
      "\n",
      "class Circle(object):\n",
      "    \"An advanced circle analytic toolkit\"\n",
      "    \n",
      "    version = '0.3'     # another API change\n",
      "    \n",
      "    def __init__(self, radius):\n",
      "        self.radius = radius\n",
      "        \n",
      "    def area(self):\n",
      "        \"Perform quadrature on myself.\"\n",
      "        return math.pi * (self.radius ** 2.0)\n",
      "    \n",
      "    def perimeter(self):\n",
      "        \"Find my perimeter.\"\n",
      "        return 2.0 * math.pi * self.radius\n",
      "\n",
      "    @classmethod                # class method decorator\n",
      "    def from_bbd(cls, bbd):     # alternative constructor\n",
      "        \"Construct a circle using a bounding box diagonal.\"\n",
      "        radius = bbd / (2.0 * math.sqrt(2.0))\n",
      "        return cls(radius)\n",
      "    \n",
      "    \n",
      "# why do we need the `cls` in the class method?\n",
      "\n",
      "# hint:  think of the tire company ..."
     ],
     "language": "python",
     "metadata": {
      "slideshow": {
       "slide_type": "fragment"
      }
     },
     "outputs": []
    },
    {
     "cell_type": "markdown",
     "metadata": {
      "slideshow": {
       "slide_type": "slide"
      }
     },
     "source": [
      "# New customer:  Government (woo! $$$!) ... but they have a special requirement ..."
     ]
    },
    {
     "cell_type": "markdown",
     "metadata": {
      "slideshow": {
       "slide_type": "fragment"
      }
     },
     "source": [
      "* Government circles must follow ISO 111111, which requires a diameter attribute"
     ]
    },
    {
     "cell_type": "markdown",
     "metadata": {
      "slideshow": {
       "slide_type": "fragment"
      }
     },
     "source": [
      "* Yikes, diameter depends on radius, which can change!  We need a \"computed attribute\" ..."
     ]
    },
    {
     "cell_type": "markdown",
     "metadata": {
      "slideshow": {
       "slide_type": "fragment"
      }
     },
     "source": [
      "* Luckily, Python has a convenient way of handling this:  a *property*"
     ]
    },
    {
     "cell_type": "markdown",
     "metadata": {
      "slideshow": {
       "slide_type": "slide"
      }
     },
     "source": [
      "# Properties to the rescue!"
     ]
    },
    {
     "cell_type": "code",
     "collapsed": false,
     "input": [
      "import math\n",
      "\n",
      "class Circle(object):\n",
      "    \"An advanced circle analytic toolkit\"\n",
      "    \n",
      "    version = '0.4'\n",
      "    \n",
      "    def __init__(self, radius):\n",
      "        self.radius = radius\n",
      "        \n",
      "    def area(self):\n",
      "        \"Perform quadrature on myself.\"\n",
      "        return math.pi * (self.radius ** 2.0)\n",
      "    \n",
      "    @property                   # property decorator\n",
      "    def diameter(self):         # diameter \"computed attribute\"\n",
      "        \"Get my diameter (i.e., compute from radius).\"\n",
      "        return self.radius * 2.0\n",
      "    \n",
      "    @diameter.setter                # so when we set the diameter\n",
      "    def diameter(self, diameter):   # the new radius is computed\n",
      "        \"Set my diameter (and computed radius).\"\n",
      "        self.radius = diameter / 2.0\n",
      "    \n",
      "    def perimeter(self):\n",
      "        \"Find my perimeter.\"\n",
      "        return 2.0 * math.pi * self.radius\n",
      "\n",
      "    @classmethod\n",
      "    def from_bbd(cls, bbd):\n",
      "        \"Construct a circle using a bounding box diagonal.\"\n",
      "        radius = bbd / (2.0 * math.sqrt(2.0))\n",
      "        return cls(radius)\n",
      "    "
     ],
     "language": "python",
     "metadata": {
      "slideshow": {
       "slide_type": "fragment"
      }
     },
     "outputs": []
    },
    {
     "cell_type": "markdown",
     "metadata": {
      "slideshow": {
       "slide_type": "slide"
      }
     },
     "source": [
      "# Our old friends Academia are back with a request:  many circles!"
     ]
    },
    {
     "cell_type": "code",
     "collapsed": false,
     "input": [
      "from random import random, seed\n",
      "\n",
      "n = 10000000   # yikes!\n",
      "\n",
      "seed(8675309)\n",
      "print 'Using Circuminferential(tm) Circle, version', Circle.version\n",
      "circles = [Circle(random()) for i in xrange(n)]\n",
      "print 'The average area of', n, 'random circles'\n",
      "avg = sum(c.area() for c in circles) / n\n",
      "print 'is %.1f' % avg\n",
      "print\n",
      "\n",
      "\n",
      "# Oops -- major memory problem ...\n",
      "# Circle instances are over 300 bytes each!"
     ],
     "language": "python",
     "metadata": {
      "slideshow": {
       "slide_type": "fragment"
      }
     },
     "outputs": []
    },
    {
     "cell_type": "markdown",
     "metadata": {
      "slideshow": {
       "slide_type": "slide"
      }
     },
     "source": [
      "# Python is ready for that one:  slots"
     ]
    },
    {
     "cell_type": "markdown",
     "metadata": {
      "slideshow": {
       "slide_type": "fragment"
      }
     },
     "source": [
      "* Slots (__slots__) suppresses the class dictionary (__dict__)"
     ]
    },
    {
     "cell_type": "markdown",
     "metadata": {
      "slideshow": {
       "slide_type": "fragment"
      }
     },
     "source": [
      "* Which can radically reduce memory consumption of the class"
     ]
    },
    {
     "cell_type": "markdown",
     "metadata": {
      "slideshow": {
       "slide_type": "fragment"
      }
     },
     "source": [
      "* However, it should always be done as the **final** optimization ..."
     ]
    },
    {
     "cell_type": "markdown",
     "metadata": {
      "slideshow": {
       "slide_type": "fragment"
      }
     },
     "source": [
      "* ... because the class becomes less flexible"
     ]
    },
    {
     "cell_type": "markdown",
     "metadata": {
      "slideshow": {
       "slide_type": "slide"
      }
     },
     "source": [
      "# \"Flyweight\" circles"
     ]
    },
    {
     "cell_type": "code",
     "collapsed": false,
     "input": [
      "import math\n",
      "\n",
      "class Circle(object):\n",
      "    \"An advanced circle analytic toolkit\"\n",
      "    \n",
      "    version = '0.5'\n",
      "    \n",
      "    __slots__ = ['radius']    # suppresses class __dict__\n",
      "    \n",
      "    def __init__(self, radius):\n",
      "        self.radius = radius\n",
      "        \n",
      "    def area(self):\n",
      "        \"Perform quadrature on myself.\"\n",
      "        return math.pi * (self.radius ** 2.0)\n",
      "    \n",
      "    @property\n",
      "    def diameter(self):\n",
      "        \"Get my diameter (i.e., compute from radius).\"\n",
      "        return self.radius * 2.0\n",
      "    \n",
      "    @diameter.setter\n",
      "    def diameter(self, diameter):\n",
      "        \"Set my diameter (and computed radius).\"\n",
      "        self.radius = diameter / 2.0\n",
      "    \n",
      "    def perimeter(self):\n",
      "        \"Find my perimeter.\"\n",
      "        return 2.0 * math.pi * self.radius\n",
      "\n",
      "    @classmethod\n",
      "    def from_bbd(cls, bbd):\n",
      "        \"Construct a circle using a bounding box diagonal.\"\n",
      "        radius = bbd / (2.0 * math.sqrt(2.0))\n",
      "        return cls(radius)\n",
      "    "
     ],
     "language": "python",
     "metadata": {
      "slideshow": {
       "slide_type": "fragment"
      }
     },
     "outputs": []
    },
    {
     "cell_type": "markdown",
     "metadata": {
      "slideshow": {
       "slide_type": "slide"
      }
     },
     "source": [
      "# Summary:  the Python Class Toolkit (for new-style classes)"
     ]
    },
    {
     "cell_type": "markdown",
     "metadata": {
      "slideshow": {
       "slide_type": "fragment"
      }
     },
     "source": [
      "* Inherit from <font color=\"red\">object</font>!"
     ]
    },
    {
     "cell_type": "markdown",
     "metadata": {
      "slideshow": {
       "slide_type": "fragment"
      }
     },
     "source": [
      "* Use <font color=\"red\">instance variables</font> for data unique to an instance."
     ]
    },
    {
     "cell_type": "markdown",
     "metadata": {
      "slideshow": {
       "slide_type": "fragment"
      }
     },
     "source": [
      "* Use <font color=\"red\">class variables</font> for data shared among all instances."
     ]
    },
    {
     "cell_type": "markdown",
     "metadata": {
      "slideshow": {
       "slide_type": "fragment"
      }
     },
     "source": [
      "* <font color=\"red\">Regular methods</font> use <font color=\"red\">self</font> to access or operate on instance data."
     ]
    },
    {
     "cell_type": "markdown",
     "metadata": {
      "slideshow": {
       "slide_type": "fragment"
      }
     },
     "source": [
      "* <font color=\"red\">Class methods</font> implement alternative constructors.  They need <font color=\"red\">cls</font> so they can create subclass instances as well."
     ]
    },
    {
     "cell_type": "markdown",
     "metadata": {
      "slideshow": {
       "slide_type": "fragment"
      }
     },
     "source": [
      "* A <font color=\"red\">property</font> implements a \"computable attribute\" -- specifically, it causes <font color=\"red\">getter</font> and <font color=\"red\">setter</font> methods to be invoked by attribute access.  This enables Python classes to freely expose their attributes without fear of breakage."
     ]
    }
   ],
   "metadata": {}
  }
 ]
}