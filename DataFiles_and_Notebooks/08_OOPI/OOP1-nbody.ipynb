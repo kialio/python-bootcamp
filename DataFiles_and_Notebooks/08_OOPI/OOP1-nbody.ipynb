{
 "metadata": {
  "name": "",
  "signature": "sha256:441b1a3323ec6ef783cfa31fecfb5b9dab1665e9e352478982d946fc32a10171"
 },
 "nbformat": 3,
 "nbformat_minor": 0,
 "worksheets": [
  {
   "cells": [
    {
     "cell_type": "heading",
     "level": 1,
     "metadata": {},
     "source": [
      "Object-Oriented Programming Example: A simple N-body code"
     ]
    },
    {
     "cell_type": "markdown",
     "metadata": {},
     "source": [
      "Supposed we wanted to create a system of particles that move in some acceleration field, like a gravitational field or an electric field. This is a good test case for showing the power of classes and object-oriented programming.  "
     ]
    },
    {
     "cell_type": "markdown",
     "metadata": {},
     "source": [
      "The setup is like this: we have a set of $n$ particles with positions ${\\bf x}_i$:\n",
      "\n",
      "$\\{{\\bf x}_1,{\\bf x}_2,{\\bf x}_3,...,{\\bf x}_n\\}$\n",
      "\n",
      "velocities ${\\bf v}_i$:\n",
      "\n",
      "$\\{{\\bf v}_1,{\\bf v}_2,{\\bf v}_3,...,{\\bf v}_n\\}$\n",
      "\n",
      "and \"tags\" or \"IDs\", e.g., some kind of unique identifying integer, to keep track of each one:\n",
      "\n",
      "$\\{i_1,i_2,i_3,...,i_n\\}$\n",
      "\n",
      "The particles are situated in some kind of position-dependent acceleration field ${\\bf a}({\\bf r})$, which for any given moment results in accelerations ${\\bf a}_i$ on the particles:\n",
      "\n",
      "$\\{{\\bf a}_1,{\\bf a}_2,{\\bf a}_3,...,{\\bf a}_n\\}$\n",
      "\n",
      "Given the initial positions, velocities, and acceleration field, we want to solve for the evolution of the particles as a function of time. We'll do this in a discrete fashion, where the particles will be evolved over the time interval $t \\in [0,t_{\\rm max}]$ over a series of steps. The algorithm we'll use for this is called the \"leapfrog\" or \"midpoint\" method. For this example, you don't necessarily need to know exactly how this works, except that at each step it advances the position and the velocity of each particle by a single timestep $\\Delta{t}$, the value of which is determined at each step from the particle which is moving the fastest. "
     ]
    },
    {
     "cell_type": "markdown",
     "metadata": {},
     "source": [
      "First, we'll import the modules we need, as well as define some constants. We'll just need a couple of things from `math` and `matplotlib` so we can plot the results. "
     ]
    },
    {
     "cell_type": "code",
     "collapsed": false,
     "input": [
      "%matplotlib inline\n",
      "from math import sqrt, pi\n",
      "onethird = 1./3.\n",
      "onesixth = 1./6.\n",
      "import matplotlib.pyplot as plt"
     ],
     "language": "python",
     "metadata": {},
     "outputs": [],
     "prompt_number": 1
    },
    {
     "cell_type": "markdown",
     "metadata": {},
     "source": [
      "We'll create two classes, which will interoperate with each other. The first is a class `Particle` that defines a single particle. Each `Particle` has the following attributes:\n",
      "\n",
      "* `x`: the particle's x-position, as an expanding list with time\n",
      "* `y`: the particle's y-position, as an expanding list with time \n",
      "* `z`: the particle's z-position, as an expanding list with time \n",
      "* `vx`: the particle's x-velocity, as an expanding list with time\n",
      "* `vy`: the particle's x-velocity, as an expanding list with time\n",
      "* `vz`: the particle's x-velocity, as an expanding list with time\n",
      "* `id`: the particle's ID\n",
      "\n",
      "and the following methods:\n",
      "\n",
      "* `set_id`: set the particle's ID.\n",
      "* `get_id`: get the particle's ID.\n",
      "* `get_current_position`: get the current position of the particle. \n",
      "* `get_current_velocity`: get the current velocity of the particle. \n",
      "* `get_timestep`: get the particle's current timestep.\n",
      "* `set_acceleration`: set the acceleration on the particle.\n",
      "* `advance`: advance the particle's position and velocity forward by one timestep.  "
     ]
    },
    {
     "cell_type": "code",
     "collapsed": false,
     "input": [
      "class Particle(object):\n",
      "        \n",
      "    def __init__(self, pos, vel):\n",
      "        self.x = [pos[0]]\n",
      "        self.y = [pos[1]]\n",
      "        self.z = [pos[2]]\n",
      "        self.vx = [vel[0]]\n",
      "        self.vy = [vel[1]]\n",
      "        self.vz = [vel[2]]\n",
      "        \n",
      "        self.id = None\n",
      "        \n",
      "        self.ax = 0.0\n",
      "        self.ay = 0.0\n",
      "        self.az = 0.0\n",
      "        self.ax_old = 0.0\n",
      "        self.ay_old = 0.0\n",
      "        self.az_old = 0.0\n",
      "        \n",
      "    def set_id(self, id):\n",
      "        \"\"\"\n",
      "        Set the particle's *id*.\n",
      "        \"\"\"\n",
      "        self.id = id\n",
      "    \n",
      "    def get_id(self):\n",
      "        \"\"\"\n",
      "        Get the particle's *id*.\n",
      "        \"\"\"\n",
      "        return self.id\n",
      "    \n",
      "    def get_current_position(self):\n",
      "        \"\"\"\n",
      "        Get the particle's current position.\n",
      "        \"\"\"\n",
      "        return [self.x[-1],self.y[-1],self.z[-1]]\n",
      "    \n",
      "    def get_current_velocity(self):\n",
      "        \"\"\"\n",
      "        Get the particle's current velocity.\n",
      "        \"\"\"\n",
      "        return [self.vx[-1],self.vy[-1],self.vz[-1]]\n",
      "    \n",
      "    def get_timestep(self):\n",
      "        \"\"\"\n",
      "        Get the timestep for this particle.\n",
      "        \"\"\"\n",
      "        x, y, z = self.get_current_position()\n",
      "        r = sqrt(x*x+y*y+z*z)\n",
      "        a = sqrt(self.ax**2+self.ay**2+self.az**2)\n",
      "        return 0.01*sqrt(r/a)\n",
      "            \n",
      "    def set_acceleration(self, a):\n",
      "        \"\"\"\n",
      "        Set the acceleration with magnitude *a*\n",
      "        \"\"\"\n",
      "        # Update the old acceleration\n",
      "        self.ax_old = self.ax\n",
      "        self.ay_old = self.ay\n",
      "        self.az_old = self.az\n",
      "        \n",
      "        x, y, z = self.get_current_position()\n",
      "        r = sqrt(x*x+y*y+z*z)\n",
      "        \n",
      "        # Set the new acceleration\n",
      "        self.ax = a*x/r\n",
      "        self.ay = a*y/r\n",
      "        self.az = a*z/r\n",
      "    \n",
      "    def advance(self, dt, dt_old): \n",
      "        \"\"\"\n",
      "        Advance the particle's position and velocity using the \n",
      "        timesteps *dt* and *dt_old*.\n",
      "        \"\"\"\n",
      "        # Determine the weights for the current and previous accelerations\n",
      "        if len(self.x) == 1:\n",
      "            wterm = 0.5*dt\n",
      "            woldterm = 0.0\n",
      "        else:\n",
      "            wterm = 0.5*dt + onethird*dt_old + onesixth*dt**2/dt_old\n",
      "            woldterm = onesixth*(dt_old**2-dt**2)/dt_old\n",
      "\n",
      "        # Advance the particle's velocity\n",
      "        vx = self.vx[-1] + wterm*self.ax + woldterm*self.ax_old\n",
      "        vy = self.vy[-1] + wterm*self.ay + woldterm*self.ay_old\n",
      "        vz = self.vz[-1] + wterm*self.az + woldterm*self.az_old\n",
      "        \n",
      "        # Advance the particle position\n",
      "        x = self.x[-1] + vx*dt\n",
      "        y = self.y[-1] + vy*dt\n",
      "        z = self.z[-1] + vz*dt\n",
      "        \n",
      "        # Add the new position to the list\n",
      "        self.x.append(x)\n",
      "        self.y.append(y)\n",
      "        self.z.append(z)\n",
      "        \n",
      "        # Add the new velocity to the list\n",
      "        self.vx.append(vx)\n",
      "        self.vy.append(vy)\n",
      "        self.vz.append(vz)"
     ],
     "language": "python",
     "metadata": {},
     "outputs": [],
     "prompt_number": 2
    },
    {
     "cell_type": "markdown",
     "metadata": {},
     "source": [
      "The second class we'll create is a `Particles` class that contains a collection of particles. Each instance has the following attributes:\n",
      "\n",
      "* `num_particles`: the number of particles\n",
      "* `particles`: a list of `Particle` instances\n",
      "* `accel_func`: the function which defines the particle acceleration as a function of radius\n",
      "* `time`: a list of times\n",
      "* `dt`: the current timestep\n",
      "* `dt_old`: the previous timestep\n",
      "\n",
      "and the following methods:\n",
      "\n",
      "* `add_particle`: add a particle to the collection. \n",
      "* `set_acceleration_field`: set the acceleration field function. \n",
      "* `determine_timestep`: determine the timestep that the particles will be evolved over at this step. \n",
      "* `evolve`: evolve the system of particles.\n",
      "* `get_particle_from_id`: grab a particle from the collection based on its ID."
     ]
    },
    {
     "cell_type": "code",
     "collapsed": false,
     "input": [
      "class Particles(object):\n",
      "    \n",
      "    def __init__(self):\n",
      "        self.num_particles = 0\n",
      "        self.particles = []\n",
      "        self.accel_func = None\n",
      "        self.time = [0.0]\n",
      "        self.dt = 0.0\n",
      "        self.dt_old = 0.0\n",
      "        self.ids = []\n",
      "        \n",
      "    def add_particle(self, p):\n",
      "        \"\"\"\n",
      "        Add the particle *p*. Increment the number of particles by 1. \n",
      "        \"\"\"\n",
      "        self.particles.append(p)\n",
      "        self.ids.append(p.id)\n",
      "        self.num_particles += 1\n",
      "        \n",
      "    def set_acceleration_field(self, accel_func):\n",
      "        \"\"\"\n",
      "        Set the acceleration field for these particles to *accel_func*.\n",
      "        \"\"\"\n",
      "        self.accel_func = accel_func\n",
      "        \n",
      "    def determine_timestep(self):\n",
      "        \"\"\"\n",
      "        Find the minimum timestep of all the particles.\n",
      "        \"\"\"\n",
      "        dts = [p.get_timestep() for p in self.particles]\n",
      "        self.dt = min(dts)\n",
      "    \n",
      "    def evolve(self, tmax):\n",
      "        \"\"\"\n",
      "        Evolve the particles for a time *tmax*.\n",
      "        \"\"\"\n",
      "        step = 0\n",
      "        while self.time[-1] < tmax:\n",
      "            for p in self.particles:\n",
      "                x, y, z = p.get_current_position()\n",
      "                r = sqrt(x*x+y*y+z*z)\n",
      "                a = self.accel_func(r)\n",
      "                p.set_acceleration(a)\n",
      "            self.determine_timestep()\n",
      "            print \"step = %d, time = %g, dt = %g\" % (step, self.time[-1], self.dt)\n",
      "            for p in self.particles:\n",
      "                p.advance(self.dt, self.dt_old)\n",
      "            self.dt_old = self.dt\n",
      "            self.time.append(self.time[-1]+self.dt)\n",
      "            step += 1\n",
      "            \n",
      "    def get_particle_from_id(self, id):\n",
      "        \"\"\"\n",
      "        Get the particle with matching *id*.\n",
      "        \"\"\"\n",
      "        idx = self.ids.index(id)\n",
      "        return self.particles[idx]    "
     ],
     "language": "python",
     "metadata": {},
     "outputs": [],
     "prompt_number": 3
    },
    {
     "cell_type": "markdown",
     "metadata": {},
     "source": [
      "The first thing we have to do is initialize the `Particles` instance. It doesn't take any arguments, so we just set it up like this:"
     ]
    },
    {
     "cell_type": "code",
     "collapsed": false,
     "input": [
      "particles = Particles()"
     ],
     "language": "python",
     "metadata": {},
     "outputs": [],
     "prompt_number": 4
    },
    {
     "cell_type": "markdown",
     "metadata": {},
     "source": [
      "Remember, this is implicitly calling the `__init__` method of the the `Particles` class \"under the hood\". "
     ]
    },
    {
     "cell_type": "markdown",
     "metadata": {},
     "source": [
      "For the acceleration field, we'll assume a Newtonian gravitational field, $a = -GM/r^2$, with convenient units such that $GM = 1$. It's simple enough that we can create it using a `lambda`:"
     ]
    },
    {
     "cell_type": "code",
     "collapsed": false,
     "input": [
      "grav_accel = lambda r: -1.0/(r*r)"
     ],
     "language": "python",
     "metadata": {},
     "outputs": [],
     "prompt_number": 5
    },
    {
     "cell_type": "markdown",
     "metadata": {},
     "source": [
      "Now we can set up the particle positions and velocities. These values have been chosen so that we get circular orbits in the given acceleration:"
     ]
    },
    {
     "cell_type": "code",
     "collapsed": false,
     "input": [
      "x1 = 1.0\n",
      "x2 = -1.0\n",
      "vy1 = 1.0\n",
      "vy2 = -1.0"
     ],
     "language": "python",
     "metadata": {},
     "outputs": [],
     "prompt_number": 6
    },
    {
     "cell_type": "code",
     "collapsed": false,
     "input": [
      "We can now create the two particle objects. "
     ],
     "language": "python",
     "metadata": {},
     "outputs": []
    },
    {
     "cell_type": "code",
     "collapsed": false,
     "input": [
      "p1 = Particle([x1,0.0,0.0],[0.0,vy1,0.0])\n",
      "p2 = Particle([x2,0.0,0.0],[0.0,vy2,0.0])"
     ],
     "language": "python",
     "metadata": {},
     "outputs": [],
     "prompt_number": 7
    },
    {
     "cell_type": "markdown",
     "metadata": {},
     "source": [
      "We'll use the `set_id` method to set each particle's ID:"
     ]
    },
    {
     "cell_type": "code",
     "collapsed": false,
     "input": [
      "p1.set_id(1)\n",
      "p2.set_id(2)"
     ],
     "language": "python",
     "metadata": {},
     "outputs": [],
     "prompt_number": 8
    },
    {
     "cell_type": "markdown",
     "metadata": {},
     "source": [
      "and we can use the `get_id` method to get them back: "
     ]
    },
    {
     "cell_type": "code",
     "collapsed": false,
     "input": [
      "print p1.get_id(), p2.get_id()"
     ],
     "language": "python",
     "metadata": {},
     "outputs": [
      {
       "output_type": "stream",
       "stream": "stdout",
       "text": [
        "1 2\n"
       ]
      }
     ],
     "prompt_number": 23
    },
    {
     "cell_type": "markdown",
     "metadata": {},
     "source": [
      "Obviously, we could have just accessed `p1.id` and `p2.id` to set the IDs, but it's good practice to avoid accessing attributes of an object as much as possible, and instead implement \"getter\" and \"setter\" methods like `get_id` and `set_id`."
     ]
    },
    {
     "cell_type": "markdown",
     "metadata": {},
     "source": [
      "Now add each `Particle` object to the `particles` object:"
     ]
    },
    {
     "cell_type": "code",
     "collapsed": false,
     "input": [
      "particles.add_particle(p1)\n",
      "particles.add_particle(p2)"
     ],
     "language": "python",
     "metadata": {},
     "outputs": [],
     "prompt_number": 24
    },
    {
     "cell_type": "markdown",
     "metadata": {},
     "source": [
      "We can now check the number of particles again, and we should find that it is 2, since we've now added these particles. "
     ]
    },
    {
     "cell_type": "code",
     "collapsed": false,
     "input": [
      "print particles.num_particles"
     ],
     "language": "python",
     "metadata": {},
     "outputs": [
      {
       "output_type": "stream",
       "stream": "stdout",
       "text": [
        "2\n"
       ]
      }
     ],
     "prompt_number": 10
    },
    {
     "cell_type": "markdown",
     "metadata": {},
     "source": [
      "We also have to tell the `particles` object what the acceleration field is that we defined earlier:"
     ]
    },
    {
     "cell_type": "code",
     "collapsed": false,
     "input": [
      "particles.set_acceleration_field(grav_accel)"
     ],
     "language": "python",
     "metadata": {},
     "outputs": [],
     "prompt_number": 11
    },
    {
     "cell_type": "markdown",
     "metadata": {},
     "source": [
      "We're finally ready to set these particles in motion! The only thing left to do is to call the `evolve` method, which needs to know how long we want to run the evolution for. For a circular orbit, the speed is constant, and in this case for each particle is $v = 1$. The period of a circular orbit is given by $T = 2\\pi/v$, so to make each particle undergo half its orbit, we'll set the evolution time `tmax` to $\\pi$."
     ]
    },
    {
     "cell_type": "code",
     "collapsed": false,
     "input": [
      "particles.evolve(pi)"
     ],
     "language": "python",
     "metadata": {},
     "outputs": [
      {
       "output_type": "stream",
       "stream": "stdout",
       "text": [
        "step = 0, time = 0, dt = 0.01\n",
        "step = 1, time = 0.01, dt = 0.01\n",
        "step = 2, time = 0.02, dt = 0.01\n",
        "step = 3, time = 0.03, dt = 0.01\n",
        "step = 4, time = 0.04, dt = 0.01\n",
        "step = 5, time = 0.05, dt = 0.01\n",
        "step = 6, time = 0.06, dt = 0.01\n",
        "step = 7, time = 0.07, dt = 0.01\n",
        "step = 8, time = 0.08, dt = 0.01\n",
        "step = 9, time = 0.09, dt = 0.01\n",
        "step = 10, time = 0.1, dt = 0.01\n",
        "step = 11, time = 0.11, dt = 0.01\n",
        "step = 12, time = 0.12, dt = 0.01\n",
        "step = 13, time = 0.13, dt = 0.01\n",
        "step = 14, time = 0.14, dt = 0.01\n",
        "step = 15, time = 0.15, dt = 0.01\n",
        "step = 16, time = 0.16, dt = 0.01\n",
        "step = 17, time = 0.17, dt = 0.01\n",
        "step = 18, time = 0.18, dt = 0.01\n",
        "step = 19, time = 0.19, dt = 0.01\n",
        "step = 20, time = 0.2, dt = 0.01\n",
        "step = 21, time = 0.21, dt = 0.01\n",
        "step = 22, time = 0.22, dt = 0.01\n",
        "step = 23, time = 0.23, dt = 0.01\n",
        "step = 24, time = 0.24, dt = 0.01\n",
        "step = 25, time = 0.25, dt = 0.01\n",
        "step = 26, time = 0.26, dt = 0.01\n",
        "step = 27, time = 0.27, dt = 0.01\n",
        "step = 28, time = 0.28, dt = 0.01\n",
        "step = 29, time = 0.29, dt = 0.01\n",
        "step = 30, time = 0.3, dt = 0.01\n",
        "step = 31, time = 0.31, dt = 0.01\n",
        "step = 32, time = 0.32, dt = 0.01\n",
        "step = 33, time = 0.33, dt = 0.01\n",
        "step = 34, time = 0.34, dt = 0.01\n",
        "step = 35, time = 0.35, dt = 0.01\n",
        "step = 36, time = 0.36, dt = 0.01\n",
        "step = 37, time = 0.37, dt = 0.01\n",
        "step = 38, time = 0.38, dt = 0.01\n",
        "step = 39, time = 0.39, dt = 0.01\n",
        "step = 40, time = 0.4, dt = 0.01\n",
        "step = 41, time = 0.41, dt = 0.01\n",
        "step = 42, time = 0.42, dt = 0.01\n",
        "step = 43, time = 0.43, dt = 0.01\n",
        "step = 44, time = 0.440001, dt = 0.01\n",
        "step = 45, time = 0.450001, dt = 0.01\n",
        "step = 46, time = 0.460001, dt = 0.01\n",
        "step = 47, time = 0.470001, dt = 0.01\n",
        "step = 48, time = 0.480001, dt = 0.01\n",
        "step = 49, time = 0.490001, dt = 0.01\n",
        "step = 50, time = 0.500001, dt = 0.01\n",
        "step = 51, time = 0.510001, dt = 0.01\n",
        "step = 52, time = 0.520001, dt = 0.01\n",
        "step = 53, time = 0.530001, dt = 0.0100001\n",
        "step = 54, time = 0.540001, dt = 0.0100001\n",
        "step = 55, time = 0.550001, dt = 0.0100001\n",
        "step = 56, time = 0.560001, dt = 0.0100001\n",
        "step = 57, time = 0.570001, dt = 0.0100001\n",
        "step = 58, time = 0.580001, dt = 0.0100001\n",
        "step = 59, time = 0.590001, dt = 0.0100001\n",
        "step = 60, time = 0.600001, dt = 0.0100001\n",
        "step = 61, time = 0.610001, dt = 0.0100001\n",
        "step = 62, time = 0.620001, dt = 0.0100001\n",
        "step = 63, time = 0.630001, dt = 0.0100001\n",
        "step = 64, time = 0.640002, dt = 0.0100001\n",
        "step = 65, time = 0.650002, dt = 0.0100001\n",
        "step = 66, time = 0.660002, dt = 0.0100001\n",
        "step = 67, time = 0.670002, dt = 0.0100001\n",
        "step = 68, time = 0.680002, dt = 0.0100001\n",
        "step = 69, time = 0.690002, dt = 0.0100001\n",
        "step = 70, time = 0.700002, dt = 0.0100001\n",
        "step = 71, time = 0.710002, dt = 0.0100001\n",
        "step = 72, time = 0.720002, dt = 0.0100001\n",
        "step = 73, time = 0.730002, dt = 0.0100001\n",
        "step = 74, time = 0.740002, dt = 0.0100001\n",
        "step = 75, time = 0.750003, dt = 0.0100001\n",
        "step = 76, time = 0.760003, dt = 0.0100001\n",
        "step = 77, time = 0.770003, dt = 0.0100001\n",
        "step = 78, time = 0.780003, dt = 0.0100001\n",
        "step = 79, time = 0.790003, dt = 0.0100001\n",
        "step = 80, time = 0.800003, dt = 0.0100001\n",
        "step = 81, time = 0.810003, dt = 0.0100001\n",
        "step = 82, time = 0.820003, dt = 0.0100001\n",
        "step = 83, time = 0.830003, dt = 0.0100001\n",
        "step = 84, time = 0.840004, dt = 0.0100001\n",
        "step = 85, time = 0.850004, dt = 0.0100001\n",
        "step = 86, time = 0.860004, dt = 0.0100001\n",
        "step = 87, time = 0.870004, dt = 0.0100001\n",
        "step = 88, time = 0.880004, dt = 0.0100001\n",
        "step = 89, time = 0.890004, dt = 0.0100001\n",
        "step = 90, time = 0.900004, dt = 0.0100001\n",
        "step = 91, time = 0.910004, dt = 0.0100001\n",
        "step = 92, time = 0.920005, dt = 0.0100001\n",
        "step = 93, time = 0.930005, dt = 0.0100002\n",
        "step = 94, time = 0.940005, dt = 0.0100002\n",
        "step = 95, time = 0.950005, dt = 0.0100002\n",
        "step = 96, time = 0.960005, dt = 0.0100002\n",
        "step = 97, time = 0.970005, dt = 0.0100002\n",
        "step = 98, time = 0.980006, dt = 0.0100002\n",
        "step = 99, time = 0.990006, dt = 0.0100002\n",
        "step = 100, time = 1.00001, dt = 0.0100002\n",
        "step = 101, time = 1.01001, dt = 0.0100002\n",
        "step = 102, time = 1.02001, dt = 0.0100002\n",
        "step = 103, time = 1.03001, dt = 0.0100002\n",
        "step = 104, time = 1.04001, dt = 0.0100002\n",
        "step = 105, time = 1.05001, dt = 0.0100002\n",
        "step = 106, time = 1.06001, dt = 0.0100002\n",
        "step = 107, time = 1.07001, dt = 0.0100002\n",
        "step = 108, time = 1.08001, dt = 0.0100002\n",
        "step = 109, time = 1.09001, dt = 0.0100002\n",
        "step = 110, time = 1.10001, dt = 0.0100002\n",
        "step = 111, time = 1.11001, dt = 0.0100002\n",
        "step = 112, time = 1.12001, dt = 0.0100002\n",
        "step = 113, time = 1.13001, dt = 0.0100002\n",
        "step = 114, time = 1.14001, dt = 0.0100002\n",
        "step = 115, time = 1.15001, dt = 0.0100002\n",
        "step = 116, time = 1.16001, dt = 0.0100002\n",
        "step = 117, time = 1.17001, dt = 0.0100002\n",
        "step = 118, time = 1.18001, dt = 0.0100002\n",
        "step = 119, time = 1.19001, dt = 0.0100002\n",
        "step = 120, time = 1.20001, dt = 0.0100002\n",
        "step = 121, time = 1.21001, dt = 0.0100002\n",
        "step = 122, time = 1.22001, dt = 0.0100002\n",
        "step = 123, time = 1.23001, dt = 0.0100002\n",
        "step = 124, time = 1.24001, dt = 0.0100003\n",
        "step = 125, time = 1.25001, dt = 0.0100003\n",
        "step = 126, time = 1.26001, dt = 0.0100003\n",
        "step = 127, time = 1.27001, dt = 0.0100003\n",
        "step = 128, time = 1.28001, dt = 0.0100003\n",
        "step = 129, time = 1.29001, dt = 0.0100003\n",
        "step = 130, time = 1.30001, dt = 0.0100003\n",
        "step = 131, time = 1.31001, dt = 0.0100003\n",
        "step = 132, time = 1.32001, dt = 0.0100003\n",
        "step = 133, time = 1.33001, dt = 0.0100003\n",
        "step = 134, time = 1.34001, dt = 0.0100003\n",
        "step = 135, time = 1.35001, dt = 0.0100003\n",
        "step = 136, time = 1.36001, dt = 0.0100003\n",
        "step = 137, time = 1.37001, dt = 0.0100003\n",
        "step = 138, time = 1.38001, dt = 0.0100003\n",
        "step = 139, time = 1.39002, dt = 0.0100003\n",
        "step = 140, time = 1.40002, dt = 0.0100003\n",
        "step = 141, time = 1.41002, dt = 0.0100003\n",
        "step = 142, time = 1.42002, dt = 0.0100003\n",
        "step = 143, time = 1.43002, dt = 0.0100003\n",
        "step = 144, time = 1.44002, dt = 0.0100003\n",
        "step = 145, time = 1.45002, dt = 0.0100003\n",
        "step = 146, time = 1.46002, dt = 0.0100003\n",
        "step = 147, time = 1.47002, dt = 0.0100003\n",
        "step = 148, time = 1.48002, dt = 0.0100003\n",
        "step = 149, time = 1.49002, dt = 0.0100003\n",
        "step = 150, time = 1.50002, dt = 0.0100003\n",
        "step = 151, time = 1.51002, dt = 0.0100004\n",
        "step = 152, time = 1.52002, dt = 0.0100004\n",
        "step = 153, time = 1.53002, dt = 0.0100004\n",
        "step = 154, time = 1.54002, dt = 0.0100004\n",
        "step = 155, time = 1.55002, dt = 0.0100004\n",
        "step = 156, time = 1.56002, dt = 0.0100004\n",
        "step = 157, time = 1.57002, dt = 0.0100004\n",
        "step = 158, time = 1.58002, dt = 0.0100004\n",
        "step = 159, time = 1.59002, dt = 0.0100004\n",
        "step = 160, time = 1.60002, dt = 0.0100004\n",
        "step = 161, time = 1.61002, dt = 0.0100004\n",
        "step = 162, time = 1.62002, dt = 0.0100004\n",
        "step = 163, time = 1.63002, dt = 0.0100004\n",
        "step = 164, time = 1.64002, dt = 0.0100004\n",
        "step = 165, time = 1.65002, dt = 0.0100004\n",
        "step = 166, time = 1.66002, dt = 0.0100004\n",
        "step = 167, time = 1.67003, dt = 0.0100004\n",
        "step = 168, time = 1.68003, dt = 0.0100004\n",
        "step = 169, time = 1.69003, dt = 0.0100004\n",
        "step = 170, time = 1.70003, dt = 0.0100004\n",
        "step = 171, time = 1.71003, dt = 0.0100004\n",
        "step = 172, time = 1.72003, dt = 0.0100004\n",
        "step = 173, time = 1.73003, dt = 0.0100004\n",
        "step = 174, time = 1.74003, dt = 0.0100004\n",
        "step = 175, time = 1.75003, dt = 0.0100004\n",
        "step = 176, time = 1.76003, dt = 0.0100004\n",
        "step = 177, time = 1.77003, dt = 0.0100004\n",
        "step = 178, time = 1.78003, dt = 0.0100005\n",
        "step = 179, time = 1.79003, dt = 0.0100005\n",
        "step = 180, time = 1.80003, dt = 0.0100005\n",
        "step = 181, time = 1.81003, dt = 0.0100005\n",
        "step = 182, time = 1.82003, dt = 0.0100005\n",
        "step = 183, time = 1.83003, dt = 0.0100005\n",
        "step = 184, time = 1.84003, dt = 0.0100005\n",
        "step = 185, time = 1.85003, dt = 0.0100005\n",
        "step = 186, time = 1.86003, dt = 0.0100005\n",
        "step = 187, time = 1.87003, dt = 0.0100005\n",
        "step = 188, time = 1.88003, dt = 0.0100005\n",
        "step = 189, time = 1.89004, dt = 0.0100005\n",
        "step = 190, time = 1.90004, dt = 0.0100005\n",
        "step = 191, time = 1.91004, dt = 0.0100005\n",
        "step = 192, time = 1.92004, dt = 0.0100005\n",
        "step = 193, time = 1.93004, dt = 0.0100005\n",
        "step = 194, time = 1.94004, dt = 0.0100005\n",
        "step = 195, time = 1.95004, dt = 0.0100005\n",
        "step = 196, time = 1.96004, dt = 0.0100005\n",
        "step = 197, time = 1.97004, dt = 0.0100005\n",
        "step = 198, time = 1.98004, dt = 0.0100005\n",
        "step = 199, time = 1.99004, dt = 0.0100005\n",
        "step = 200, time = 2.00004, dt = 0.0100005\n",
        "step = 201, time = 2.01004, dt = 0.0100005\n",
        "step = 202, time = 2.02004, dt = 0.0100005\n",
        "step = 203, time = 2.03004, dt = 0.0100005\n",
        "step = 204, time = 2.04004, dt = 0.0100005\n",
        "step = 205, time = 2.05004, dt = 0.0100005\n",
        "step = 206, time = 2.06004, dt = 0.0100006\n",
        "step = 207, time = 2.07004, dt = 0.0100006\n",
        "step = 208, time = 2.08004, dt = 0.0100006\n",
        "step = 209, time = 2.09005, dt = 0.0100006\n",
        "step = 210, time = 2.10005, dt = 0.0100006\n",
        "step = 211, time = 2.11005, dt = 0.0100006\n",
        "step = 212, time = 2.12005, dt = 0.0100006\n",
        "step = 213, time = 2.13005, dt = 0.0100006\n",
        "step = 214, time = 2.14005, dt = 0.0100006\n",
        "step = 215, time = 2.15005, dt = 0.0100006\n",
        "step = 216, time = 2.16005, dt = 0.0100006\n",
        "step = 217, time = 2.17005, dt = 0.0100006\n",
        "step = 218, time = 2.18005, dt = 0.0100006\n",
        "step = 219, time = 2.19005, dt = 0.0100006\n",
        "step = 220, time = 2.20005, dt = 0.0100006\n",
        "step = 221, time = 2.21005, dt = 0.0100006\n",
        "step = 222, time = 2.22005, dt = 0.0100006\n",
        "step = 223, time = 2.23005, dt = 0.0100006\n",
        "step = 224, time = 2.24005, dt = 0.0100006\n",
        "step = 225, time = 2.25005, dt = 0.0100006\n",
        "step = 226, time = 2.26006, dt = 0.0100006\n",
        "step = 227, time = 2.27006, dt = 0.0100006\n",
        "step = 228, time = 2.28006, dt = 0.0100006\n",
        "step = 229, time = 2.29006, dt = 0.0100006\n",
        "step = 230, time = 2.30006, dt = 0.0100006\n",
        "step = 231, time = 2.31006, dt = 0.0100006\n",
        "step = 232, time = 2.32006, dt = 0.0100006\n",
        "step = 233, time = 2.33006, dt = 0.0100006\n",
        "step = 234, time = 2.34006, dt = 0.0100006\n",
        "step = 235, time = 2.35006, dt = 0.0100006\n",
        "step = 236, time = 2.36006, dt = 0.0100006\n",
        "step = 237, time = 2.37006, dt = 0.0100006\n",
        "step = 238, time = 2.38006, dt = 0.0100006\n",
        "step = 239, time = 2.39006, dt = 0.0100006\n",
        "step = 240, time = 2.40006, dt = 0.0100007\n",
        "step = 241, time = 2.41006, dt = 0.0100007\n",
        "step = 242, time = 2.42007, dt = 0.0100007\n",
        "step = 243, time = 2.43007, dt = 0.0100007\n",
        "step = 244, time = 2.44007, dt = 0.0100007\n",
        "step = 245, time = 2.45007, dt = 0.0100007\n",
        "step = 246, time = 2.46007, dt = 0.0100007\n",
        "step = 247, time = 2.47007, dt = 0.0100007\n",
        "step = 248, time = 2.48007, dt = 0.0100007\n",
        "step = 249, time = 2.49007, dt = 0.0100007\n",
        "step = 250, time = 2.50007, dt = 0.0100007\n",
        "step = 251, time = 2.51007, dt = 0.0100007\n",
        "step = 252, time = 2.52007, dt = 0.0100007\n",
        "step = 253, time = 2.53007, dt = 0.0100007\n",
        "step = 254, time = 2.54007, dt = 0.0100007\n",
        "step = 255, time = 2.55007, dt = 0.0100007\n",
        "step = 256, time = 2.56008, dt = 0.0100007\n",
        "step = 257, time = 2.57008, dt = 0.0100007\n",
        "step = 258, time = 2.58008, dt = 0.0100007\n",
        "step = 259, time = 2.59008, dt = 0.0100007\n",
        "step = 260, time = 2.60008, dt = 0.0100007\n",
        "step = 261, time = 2.61008, dt = 0.0100007\n",
        "step = 262, time = 2.62008, dt = 0.0100007\n",
        "step = 263, time = 2.63008, dt = 0.0100007\n",
        "step = 264, time = 2.64008, dt = 0.0100007\n",
        "step = 265, time = 2.65008, dt = 0.0100007\n",
        "step = 266, time = 2.66008, dt = 0.0100007\n",
        "step = 267, time = 2.67008, dt = 0.0100007\n",
        "step = 268, time = 2.68008, dt = 0.0100007\n",
        "step = 269, time = 2.69008, dt = 0.0100007\n",
        "step = 270, time = 2.70008, dt = 0.0100007\n",
        "step = 271, time = 2.71009, dt = 0.0100007\n",
        "step = 272, time = 2.72009, dt = 0.0100007\n",
        "step = 273, time = 2.73009, dt = 0.0100007\n",
        "step = 274, time = 2.74009, dt = 0.0100007\n",
        "step = 275, time = 2.75009, dt = 0.0100007\n",
        "step = 276, time = 2.76009, dt = 0.0100007\n",
        "step = 277, time = 2.77009, dt = 0.0100007\n",
        "step = 278, time = 2.78009, dt = 0.0100007\n",
        "step = 279, time = 2.79009, dt = 0.0100007\n",
        "step = 280, time = 2.80009, dt = 0.0100007\n",
        "step = 281, time = 2.81009, dt = 0.0100007\n",
        "step = 282, time = 2.82009, dt = 0.0100007\n",
        "step = 283, time = 2.83009, dt = 0.0100007\n",
        "step = 284, time = 2.84009, dt = 0.0100007\n",
        "step = 285, time = 2.8501, dt = 0.0100007\n",
        "step = 286, time = 2.8601, dt = 0.0100007\n",
        "step = 287, time = 2.8701, dt = 0.0100007\n",
        "step = 288, time = 2.8801, dt = 0.0100007\n",
        "step = 289, time = 2.8901, dt = 0.0100007\n",
        "step = 290, time = 2.9001, dt = 0.0100007\n",
        "step = 291, time = 2.9101, dt = 0.0100007\n",
        "step = 292, time = 2.9201, dt = 0.0100007\n",
        "step = 293, time = 2.9301, dt = 0.0100007\n",
        "step = 294, time = 2.9401, dt = 0.0100007\n",
        "step = 295, time = 2.9501, dt = 0.0100007\n",
        "step = 296, time = 2.9601, dt = 0.0100007\n",
        "step = 297, time = 2.9701, dt = 0.0100007\n",
        "step = 298, time = 2.98011, dt = 0.0100007\n",
        "step = 299, time = 2.99011, dt = 0.0100007\n",
        "step = 300, time = 3.00011, dt = 0.0100007\n",
        "step = 301, time = 3.01011, dt = 0.0100007\n",
        "step = 302, time = 3.02011, dt = 0.0100007\n",
        "step = 303, time = 3.03011, dt = 0.0100007\n",
        "step = 304, time = 3.04011, dt = 0.0100007\n",
        "step = 305, time = 3.05011, dt = 0.0100007\n",
        "step = 306, time = 3.06011, dt = 0.0100007\n",
        "step = 307, time = 3.07011, dt = 0.0100007\n",
        "step = 308, time = 3.08011, dt = 0.0100007\n",
        "step = 309, time = 3.09011, dt = 0.0100007\n",
        "step = 310, time = 3.10011, dt = 0.0100007\n",
        "step = 311, time = 3.11012, dt = 0.0100007\n",
        "step = 312, time = 3.12012, dt = 0.0100007\n",
        "step = 313, time = 3.13012, dt = 0.0100007\n",
        "step = 314, time = 3.14012, dt = 0.0100007\n"
       ]
      }
     ],
     "prompt_number": 12
    },
    {
     "cell_type": "markdown",
     "metadata": {},
     "source": [
      "Provided you didn't get any errors, you should now have arrays for the position and velocity of each particle over time! To see this, we'll plot up some of these quantities for each particle to make sure the answers look sane. "
     ]
    },
    {
     "cell_type": "markdown",
     "metadata": {},
     "source": [
      "First, the x-position vs. time for each particle:"
     ]
    },
    {
     "cell_type": "code",
     "collapsed": false,
     "input": [
      "plt.plot(particles.time, p1.x)\n",
      "plt.plot(particles.time, p2.x)"
     ],
     "language": "python",
     "metadata": {},
     "outputs": [
      {
       "metadata": {},
       "output_type": "pyout",
       "prompt_number": 13,
       "text": [
        "[<matplotlib.lines.Line2D at 0x10b542790>]"
       ]
      },
      {
       "metadata": {},
       "output_type": "display_data",
       "png": "[encoded data removed]",
       "text": [
        "<matplotlib.figure.Figure at 0x10b538f10>"
       ]
      }
     ],
     "prompt_number": 13
    },
    {
     "cell_type": "markdown",
     "metadata": {},
     "source": [
      "Second, the x-velocity vs. time for each particle:"
     ]
    },
    {
     "cell_type": "code",
     "collapsed": false,
     "input": [
      "plt.plot(particles.time, p1.vx)\n",
      "plt.plot(particles.time, p2.vx)"
     ],
     "language": "python",
     "metadata": {},
     "outputs": [
      {
       "metadata": {},
       "output_type": "pyout",
       "prompt_number": 14,
       "text": [
        "[<matplotlib.lines.Line2D at 0x10b60b2d0>]"
       ]
      },
      {
       "metadata": {},
       "output_type": "display_data",
       "png": "[encoded data removed]",
       "text": [
        "<matplotlib.figure.Figure at 0x10b60b7d0>"
       ]
      }
     ],
     "prompt_number": 14
    },
    {
     "cell_type": "markdown",
     "metadata": {},
     "source": [
      "Lastly, the position of each particle in the x-y plane:"
     ]
    },
    {
     "cell_type": "code",
     "collapsed": false,
     "input": [
      "plt.plot(p1.x, p1.y)\n",
      "plt.plot(p2.x, p2.y)"
     ],
     "language": "python",
     "metadata": {},
     "outputs": [
      {
       "metadata": {},
       "output_type": "pyout",
       "prompt_number": 15,
       "text": [
        "[<matplotlib.lines.Line2D at 0x10b602290>]"
       ]
      },
      {
       "metadata": {},
       "output_type": "display_data",
       "png": "[encoded data removed]",
       "text": [
        "<matplotlib.figure.Figure at 0x10b538290>"
       ]
      }
     ],
     "prompt_number": 15
    },
    {
     "cell_type": "markdown",
     "metadata": {},
     "source": [
      "If we didn't have the individual particle objects but knew the particle's ID that we wanted, we could access it this way:"
     ]
    },
    {
     "cell_type": "code",
     "collapsed": false,
     "input": [
      "p_new = particles.get_particle_from_id(1)"
     ],
     "language": "python",
     "metadata": {},
     "outputs": [],
     "prompt_number": 16
    },
    {
     "cell_type": "markdown",
     "metadata": {},
     "source": [
      "We can check to make sure we got the right one:"
     ]
    },
    {
     "cell_type": "code",
     "collapsed": false,
     "input": [
      "print p_new.x == p1.x"
     ],
     "language": "python",
     "metadata": {},
     "outputs": [
      {
       "metadata": {},
       "output_type": "pyout",
       "prompt_number": 21,
       "text": [
        "True"
       ]
      }
     ],
     "prompt_number": 21
    }
   ],
   "metadata": {}
  }
 ]
}