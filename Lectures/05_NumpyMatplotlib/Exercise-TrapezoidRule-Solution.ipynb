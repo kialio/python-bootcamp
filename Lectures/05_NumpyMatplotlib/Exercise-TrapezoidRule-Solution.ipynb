{
 "metadata": {
  "name": ""
 },
 "nbformat": 3,
 "nbformat_minor": 0,
 "worksheets": [
  {
   "cells": [
    {
     "cell_type": "markdown",
     "metadata": {},
     "source": [
      "Basic numerical integration: the trapezoid rule\n",
      "===============================================\n",
      "\n",
      "**Illustrates**: basic array slicing, functions as first class objects.\n",
      "\n",
      "In this exercise, you are tasked with implementing the simple trapezoid rule\n",
      "formula for numerical integration. If we want to compute the definite integral\n",
      "\n",
      "$$\n",
      "     \\int_{a}^{b}f(x)dx\n",
      "$$\n",
      "\n",
      "we can partition the integration interval $[a,b]$ into smaller subintervals,\n",
      "and approximate the area under the curve for each subinterval by the area of\n",
      "the trapezoid created by linearly interpolating between the two function values\n",
      "at each end of the subinterval:\n",
      "\n",
      "<img src=\"http://upload.wikimedia.org/wikipedia/commons/thumb/d/dd/Trapezoidal_rule_illustration.png/316px-Trapezoidal_rule_illustration.png\" /img>\n",
      "\n",
      "The blue line represents the function $f(x)$ and the red line\n",
      "is the linear interpolation.  By subdividing the interval $[a,b]$, the area under $f(x)$ can thus be approximated as the sum of the areas of all\n",
      "the resulting trapezoids. \n",
      "\n",
      "If we denote by $x_{i}$ ($i=0,\\ldots,n,$ with $x_{0}=a$ and\n",
      "$x_{n}=b$) the abscissas where the function is sampled, then\n",
      "\n",
      "$$\n",
      "   \\int_{a}^{b}f(x)dx\\approx\\frac{1}{2}\\sum_{i=1}^{n}\\left(x_{i}-x_{i-1}\\right)\\left(f(x_{i})+f(x_{i-1})\\right).\n",
      "$$\n",
      "\n",
      "The common case of using equally spaced abscissas with spacing $h=(b-a)/n$ reads simply\n",
      "\n",
      "$$\n",
      "   \\int_{a}^{b}f(x)dx\\approx\\frac{h}{2}\\sum_{i=1}^{n}\\left(f(x_{i})+f(x_{i-1})\\right).\n",
      "$$\n",
      "\n",
      "One frequently receives the function values already precomputed, $y_{i}=f(x_{i}),$\n",
      "so the equation above becomes\n",
      "\n",
      "$$\n",
      "   \\int_{a}^{b}f(x)dx\\approx\\frac{1}{2}\\sum_{i=1}^{n}\\left(x_{i}-x_{i-1}\\right)\\left(y_{i}+y_{i-1}\\right).\n",
      "$$"
     ]
    },
    {
     "cell_type": "markdown",
     "metadata": {},
     "source": [
      "Let's first preload the necessary libraries"
     ]
    },
    {
     "cell_type": "code",
     "collapsed": false,
     "input": [
      "%pylab inline\n",
      "import numpy as np\n",
      "import matplotlib.pyplot as plt"
     ],
     "language": "python",
     "metadata": {},
     "outputs": [
      {
       "output_type": "stream",
       "stream": "stdout",
       "text": [
        "Populating the interactive namespace from numpy and matplotlib\n"
       ]
      }
     ],
     "prompt_number": 1
    },
    {
     "cell_type": "markdown",
     "metadata": {},
     "source": [
      "## Exercises\n",
      "\n",
      "### 1\n",
      "\n",
      "Write a function `trapz(x, y)`, that applies the trapezoid formula to pre-computed values, \n",
      "where `x` and `y` are 1-d arrays."
     ]
    },
    {
     "cell_type": "code",
     "collapsed": true,
     "input": [
      "def trapz(x, y):\n",
      "    return 0.5*np.sum((x[1:]-x[:-1])*(y[1:]+y[:-1]))"
     ],
     "language": "python",
     "metadata": {},
     "outputs": [],
     "prompt_number": 14
    },
    {
     "cell_type": "code",
     "collapsed": false,
     "input": [
      "a = np.arange(5)\n",
      "b = a**2"
     ],
     "language": "python",
     "metadata": {},
     "outputs": [],
     "prompt_number": 2
    },
    {
     "cell_type": "code",
     "collapsed": false,
     "input": [
      "print a\n",
      "print b"
     ],
     "language": "python",
     "metadata": {},
     "outputs": [
      {
       "output_type": "stream",
       "stream": "stdout",
       "text": [
        "[0 1 2 3 4]\n",
        "[ 0  1  4  9 16]\n"
       ]
      }
     ],
     "prompt_number": 3
    },
    {
     "cell_type": "code",
     "collapsed": false,
     "input": [
      "0.5*np.sum((a[1:]-a[:-1])*(b[1:]+b[:-1]))"
     ],
     "language": "python",
     "metadata": {},
     "outputs": [
      {
       "metadata": {},
       "output_type": "pyout",
       "prompt_number": 13,
       "text": [
        "22.0"
       ]
      }
     ],
     "prompt_number": 13
    },
    {
     "cell_type": "code",
     "collapsed": false,
     "input": [
      "b"
     ],
     "language": "python",
     "metadata": {},
     "outputs": [
      {
       "metadata": {},
       "output_type": "pyout",
       "prompt_number": 12,
       "text": [
        "array([ 0,  1,  4,  9, 16])"
       ]
      }
     ],
     "prompt_number": 12
    },
    {
     "cell_type": "code",
     "collapsed": false,
     "input": [
      "trapz(a,b)"
     ],
     "language": "python",
     "metadata": {},
     "outputs": [
      {
       "metadata": {},
       "output_type": "pyout",
       "prompt_number": 15,
       "text": [
        "22.0"
       ]
      }
     ],
     "prompt_number": 15
    },
    {
     "cell_type": "markdown",
     "metadata": {},
     "source": [
      "### 2 \n",
      "\n",
      "Write a function  `trapzf(f, a, b, npts=100)` that accepts a function `f`, the endpoints `a`\n",
      "and `b` and the number of samples to take `npts`.  Sample the function uniformly at these\n",
      "points and return the value of the integral."
     ]
    },
    {
     "cell_type": "code",
     "collapsed": true,
     "input": [
      "def trapzf(f, a, b, npts=100):\n",
      "    x = np.linspace(a, b, npts)\n",
      "    y = f(x)\n",
      "    return trapz(x, y)"
     ],
     "language": "python",
     "metadata": {},
     "outputs": [],
     "prompt_number": 20
    },
    {
     "cell_type": "code",
     "collapsed": false,
     "input": [
      "trapzf(sin, 0, 1, 100)"
     ],
     "language": "python",
     "metadata": {},
     "outputs": [
      {
       "metadata": {},
       "output_type": "pyout",
       "prompt_number": 21,
       "text": [
        "0.45969378553005219"
       ]
      }
     ],
     "prompt_number": 21
    },
    {
     "cell_type": "code",
     "collapsed": false,
     "input": [
      "y = sin(x)"
     ],
     "language": "python",
     "metadata": {},
     "outputs": [],
     "prompt_number": 18
    },
    {
     "cell_type": "code",
     "collapsed": false,
     "input": [
      "trapz(x,y)"
     ],
     "language": "python",
     "metadata": {},
     "outputs": [
      {
       "metadata": {},
       "output_type": "pyout",
       "prompt_number": 19,
       "text": [
        "0.45969378553005219"
       ]
      }
     ],
     "prompt_number": 19
    },
    {
     "cell_type": "markdown",
     "metadata": {},
     "source": [
      "### 3\n",
      "\n",
      "Verify that both functions above are correct by showing that they produces correct values \n",
      "for a simple integral such as $\\int_0^3 x^2$."
     ]
    },
    {
     "cell_type": "code",
     "collapsed": false,
     "input": [
      "exact = 9.0\n",
      "x = np.linspace(0, 3, 50)\n",
      "y = x**2\n",
      "\n",
      "print exact\n",
      "print trapz(x, y)\n",
      "\n",
      "def f(x): return x**2\n",
      "print trapzf(f, 0, 3, 50)"
     ],
     "language": "python",
     "metadata": {},
     "outputs": [
      {
       "output_type": "stream",
       "stream": "stdout",
       "text": [
        "9.0\n",
        "9.00187421908\n",
        "9.00187421908\n"
       ]
      }
     ],
     "prompt_number": 22
    },
    {
     "cell_type": "markdown",
     "metadata": {},
     "source": [
      "### 4\n",
      "\n",
      "Repeat the integration for several values of `npts`, and plot the error as a function of `npts` \n",
      "for the integral in #3."
     ]
    },
    {
     "cell_type": "code",
     "collapsed": false,
     "input": [
      "npts = [5, 10, 20, 50, 100, 200]\n",
      "err = []\n",
      "for n in npts:\n",
      "    err.append(trapzf(f, 0, 3, n)-exact)"
     ],
     "language": "python",
     "metadata": {},
     "outputs": [],
     "prompt_number": 23
    },
    {
     "cell_type": "code",
     "collapsed": false,
     "input": [
      "err"
     ],
     "language": "python",
     "metadata": {},
     "outputs": [
      {
       "metadata": {},
       "output_type": "pyout",
       "prompt_number": 24,
       "text": [
        "[0.28125,\n",
        " 0.055555555555555358,\n",
        " 0.012465373961218162,\n",
        " 0.0018742190753826549,\n",
        " 0.00045913682277465284,\n",
        " 0.00011363349410409285]"
       ]
      }
     ],
     "prompt_number": 24
    },
    {
     "cell_type": "code",
     "collapsed": false,
     "input": [
      "plt.semilogy(npts, np.abs(err))\n",
      "plt.title(r'Trapezoid approximation to $\\int_0^3 x^2$')\n",
      "plt.xlabel('npts')\n",
      "plt.ylabel('Error')"
     ],
     "language": "python",
     "metadata": {},
     "outputs": [
      {
       "metadata": {},
       "output_type": "pyout",
       "prompt_number": 25,
       "text": [
        "<matplotlib.text.Text at 0x10f3f4190>"
       ]
      },
      {
       "metadata": {},
       "output_type": "display_data",
       "png": "[encoded data removed]",
       "text": [
        "<matplotlib.figure.Figure at 0x10f3b2b50>"
       ]
      }
     ],
     "prompt_number": 25
    },
    {
     "cell_type": "code",
     "collapsed": false,
     "input": [],
     "language": "python",
     "metadata": {},
     "outputs": []
    },
    {
     "cell_type": "markdown",
     "metadata": {},
     "source": [
      "## An illustration using matplotlib and scipy\n",
      "\n",
      "We define a function with a little more complex look"
     ]
    },
    {
     "cell_type": "code",
     "collapsed": true,
     "input": [
      "def f(x):\n",
      "    return (x-3)*(x-5)*(x-7)+85\n",
      "\n",
      "x = np.linspace(0, 10, 200)\n",
      "y = f(x)"
     ],
     "language": "python",
     "metadata": {},
     "outputs": [],
     "prompt_number": 11
    },
    {
     "cell_type": "markdown",
     "metadata": {},
     "source": [
      "Choose a region to integrate over and take only a few points in that region"
     ]
    },
    {
     "cell_type": "code",
     "collapsed": true,
     "input": [
      "a, b = 1, 9\n",
      "xint = x[logical_and(x>=a, x<=b)][::30]\n",
      "yint = y[logical_and(x>=a, x<=b)][::30]"
     ],
     "language": "python",
     "metadata": {},
     "outputs": [],
     "prompt_number": 12
    },
    {
     "cell_type": "markdown",
     "metadata": {},
     "source": [
      "Plot both the function and the area below it in the trapezoid approximation"
     ]
    },
    {
     "cell_type": "code",
     "collapsed": false,
     "input": [
      "plt.plot(x, y, lw=2)\n",
      "plt.axis([0, 10, 0, 140])\n",
      "plt.fill_between(xint, 0, yint, facecolor='gray', alpha=0.4)\n",
      "plt.text(0.5 * (a + b), 30,r\"$\\int_a^b f(x)dx$\", horizontalalignment='center', fontsize=20);"
     ],
     "language": "python",
     "metadata": {},
     "outputs": [
      {
       "metadata": {},
       "output_type": "display_data",
       "png": "[encoded data removed]",
       "text": [
        "<matplotlib.figure.Figure at 0x3518b10>"
       ]
      }
     ],
     "prompt_number": 14
    },
    {
     "cell_type": "markdown",
     "metadata": {},
     "source": [
      "In practice, we don't need to implement numerical integration ourselves, as scipy has both basic trapezoid\n",
      "rule integrators and more sophisticated ones. Here we illustrate both:"
     ]
    },
    {
     "cell_type": "code",
     "collapsed": false,
     "input": [
      "from scipy.integrate import quad, trapz\n",
      "integral, error = quad(f, 1, 9)\n",
      "print \"The integral is:\", integral, \"+/-\", error\n",
      "print \"The trapezoid approximation with\", len(xint), \"points is:\", trapz(yint, xint)"
     ],
     "language": "python",
     "metadata": {},
     "outputs": [
      {
       "ename": "NameError",
       "evalue": "name 'xint' is not defined",
       "output_type": "pyerr",
       "traceback": [
        "\u001b[0;31m---------------------------------------------------------------------------\u001b[0m\n\u001b[0;31mNameError\u001b[0m                                 Traceback (most recent call last)",
        "\u001b[0;32m<ipython-input-26-8b8a7ffd3057>\u001b[0m in \u001b[0;36m<module>\u001b[0;34m()\u001b[0m\n\u001b[1;32m      2\u001b[0m \u001b[0mintegral\u001b[0m\u001b[0;34m,\u001b[0m \u001b[0merror\u001b[0m \u001b[0;34m=\u001b[0m \u001b[0mquad\u001b[0m\u001b[0;34m(\u001b[0m\u001b[0mf\u001b[0m\u001b[0;34m,\u001b[0m \u001b[0;36m1\u001b[0m\u001b[0;34m,\u001b[0m \u001b[0;36m9\u001b[0m\u001b[0;34m)\u001b[0m\u001b[0;34m\u001b[0m\u001b[0m\n\u001b[1;32m      3\u001b[0m \u001b[0;32mprint\u001b[0m \u001b[0;34m\"The integral is:\"\u001b[0m\u001b[0;34m,\u001b[0m \u001b[0mintegral\u001b[0m\u001b[0;34m,\u001b[0m \u001b[0;34m\"+/-\"\u001b[0m\u001b[0;34m,\u001b[0m \u001b[0merror\u001b[0m\u001b[0;34m\u001b[0m\u001b[0m\n\u001b[0;32m----> 4\u001b[0;31m \u001b[0;32mprint\u001b[0m \u001b[0;34m\"The trapezoid approximation with\"\u001b[0m\u001b[0;34m,\u001b[0m \u001b[0mlen\u001b[0m\u001b[0;34m(\u001b[0m\u001b[0mxint\u001b[0m\u001b[0;34m)\u001b[0m\u001b[0;34m,\u001b[0m \u001b[0;34m\"points is:\"\u001b[0m\u001b[0;34m,\u001b[0m \u001b[0mtrapz\u001b[0m\u001b[0;34m(\u001b[0m\u001b[0myint\u001b[0m\u001b[0;34m,\u001b[0m \u001b[0mxint\u001b[0m\u001b[0;34m)\u001b[0m\u001b[0;34m\u001b[0m\u001b[0m\n\u001b[0m",
        "\u001b[0;31mNameError\u001b[0m: name 'xint' is not defined"
       ]
      },
      {
       "output_type": "stream",
       "stream": "stdout",
       "text": [
        "The integral is: 242.666666667 +/- 2.69414120642e-12\n",
        "The trapezoid approximation with"
       ]
      }
     ],
     "prompt_number": 26
    },
    {
     "cell_type": "code",
     "collapsed": true,
     "input": [],
     "language": "python",
     "metadata": {},
     "outputs": [],
     "prompt_number": "&nbsp;"
    }
   ],
   "metadata": {}
  }
 ]
}