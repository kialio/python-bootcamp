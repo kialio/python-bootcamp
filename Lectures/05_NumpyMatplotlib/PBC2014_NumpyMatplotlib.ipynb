{
 "metadata": {
  "name": ""
 },
 "nbformat": 3,
 "nbformat_minor": 0,
 "worksheets": [
  {
   "cells": [
    {
     "cell_type": "markdown",
     "metadata": {},
     "source": [
      "<CENTER>\n",
      "<H1>\n",
      "NASA Goddard Space Flight Center <BR>\n",
      "    Python User Group <BR>\n",
      "2014 Python Boot Camp <br>\n",
      "</H1>\n",
      "</CENTER>"
     ]
    },
    {
     "cell_type": "heading",
     "level": 1,
     "metadata": {},
     "source": [
      "Numpy and Matplotlib"
     ]
    },
    {
     "cell_type": "heading",
     "level": 2,
     "metadata": {},
     "source": [
      "Reference Documents"
     ]
    },
    {
     "cell_type": "markdown",
     "metadata": {},
     "source": [
      "<OL>\n",
      "<LI> <A HREF=\"http://wiki.scipy.org/Tentative_NumPy_Tutorial\">Tentative Numpy Tutorial</A>\n",
      "<LI> <A HREF=\"http://docs.scipy.org/doc/numpy/reference\">NumPy Reference</A>\n",
      "<LI> <A HREF=\"http://mathesaurus.sourceforge.net/matlab-numpy.html\">NumPy for MATLAB Users</A>\n",
      "<LI> <A HREF=\"http://mathesaurus.sourceforge.net/r-numpy.html\">NumPy for R (and S-Plus) Users</A>\n",
      "<LI> <A HREF=\"http://people.duke.edu/~ccc14/pcfb/numerics.html\">NumPy and Matplotlib (Practical Cumputing for Biologists)</A>\n",
      "<LI> <A HREF=\"http://scipy-lectures.github.io/intro/matplotlib/matplotlib.html\">Matplotlib: Plotting</A>\n",
      "</OL>"
     ]
    },
    {
     "cell_type": "raw",
     "metadata": {},
     "source": [
      "In case you prefer a video:"
     ]
    },
    {
     "cell_type": "code",
     "collapsed": false,
     "input": [
      "from IPython.display import YouTubeVideo\n",
      "#YouTubeVideo(\"http://www.youtube.com/watch?v=3Fp1zn5ao2M\")\n",
      "YouTubeVideo(\"3Fp1zn5ao2M\")"
     ],
     "language": "python",
     "metadata": {},
     "outputs": []
    },
    {
     "cell_type": "heading",
     "level": 3,
     "metadata": {},
     "source": [
      "What is Numpy?"
     ]
    },
    {
     "cell_type": "markdown",
     "metadata": {},
     "source": [
      "<UL>\n",
      "<LI> Efficient array computing in Python.\n",
      "<LI> Allows the creation of arrays.\n",
      "<LI> Allows efficient indexing/slicing of arrays\n",
      "<LI> Provides mathematical functions that operate on an entire array.\n",
      "<LI> The critical thing to know is that Python <B> for </B> loops are very slow!\n",
      "     One should try to use array-operations as much as possible.\n",
      "</UL>"
     ]
    },
    {
     "cell_type": "heading",
     "level": 4,
     "metadata": {},
     "source": [
      "Making Numpy Arrays"
     ]
    },
    {
     "cell_type": "markdown",
     "metadata": {},
     "source": [
      "First we want to import the appropriate modules into our name space (note this is done automatically with the \"--pylab\" flag."
     ]
    },
    {
     "cell_type": "code",
     "collapsed": false,
     "input": [
      "import numpy as np"
     ],
     "language": "python",
     "metadata": {},
     "outputs": [],
     "prompt_number": 2
    },
    {
     "cell_type": "raw",
     "metadata": {},
     "source": [
      "The primary building block of the numpy module is the class \"ndarray\". A ndarray object represents a multidimensional, homogeneous array of fixed-sized items. An associated date-type object describes the format of each element in the array. An ndarray object is (almost) never instantiated directly, but instead using a method that returns an instance of the class."
     ]
    },
    {
     "cell_type": "code",
     "collapsed": false,
     "input": [
      "a = np.array([1, 2, 3])\n",
      "print a"
     ],
     "language": "python",
     "metadata": {},
     "outputs": []
    },
    {
     "cell_type": "raw",
     "metadata": {},
     "source": [
      "The \"ones\" and \"zeros\" methods return an array object of the requested shape and type."
     ]
    },
    {
     "cell_type": "code",
     "collapsed": false,
     "input": [
      "b = np.ones((3,2))\n",
      "print b\n",
      "print b.shape"
     ],
     "language": "python",
     "metadata": {},
     "outputs": []
    },
    {
     "cell_type": "code",
     "collapsed": false,
     "input": [
      "c = np.zeros((1,3), int)\n",
      "print c\n",
      "print type(c)\n",
      "print c.dtype"
     ],
     "language": "python",
     "metadata": {},
     "outputs": []
    },
    {
     "cell_type": "code",
     "collapsed": false,
     "input": [
      "d = np.zeros(3, complex)\n",
      "print d\n",
      "print d.dtype\n",
      "id = np.eye(5)\n",
      "print id"
     ],
     "language": "python",
     "metadata": {},
     "outputs": []
    },
    {
     "cell_type": "raw",
     "metadata": {},
     "source": [
      "linspace(a, b, n) generates n uniformly spaced coordinates, starting with a and ending with b"
     ]
    },
    {
     "cell_type": "code",
     "collapsed": false,
     "input": [
      "x = np.linspace(-5, 5, 11)\n",
      "print x"
     ],
     "language": "python",
     "metadata": {},
     "outputs": []
    },
    {
     "cell_type": "code",
     "collapsed": false,
     "input": [
      "a = np.r_[-5:5:11j]        # same as linspace(-1, 1, 11)\n",
      "print a"
     ],
     "language": "python",
     "metadata": {},
     "outputs": []
    },
    {
     "cell_type": "code",
     "collapsed": false,
     "input": [
      "x = np.arange(-5, 5, 1, float)   # upper limit 5 is not included!!\n",
      "print x"
     ],
     "language": "python",
     "metadata": {},
     "outputs": []
    },
    {
     "cell_type": "heading",
     "level": 4,
     "metadata": {},
     "source": [
      "Changing Array Dimension"
     ]
    },
    {
     "cell_type": "code",
     "collapsed": false,
     "input": [
      "a = np.array([0, 1.2, 4, -9.1, 5, 8])\n",
      "print a.shape\n",
      "a.shape = (2,3) # turn a into a 2x3 matrix\n",
      "print a.size\n",
      "a.shape = (a.size,) # turn a into a vector of length 6 again\n",
      "print a.shape\n",
      "a = a.reshape(2,3) # same effect as setting a.shape\n",
      "print a.shape"
     ],
     "language": "python",
     "metadata": {},
     "outputs": []
    },
    {
     "cell_type": "heading",
     "level": 4,
     "metadata": {},
     "source": [
      "Array Initialization from a Python Function"
     ]
    },
    {
     "cell_type": "code",
     "collapsed": false,
     "input": [
      "def myfunc(i, j):\n",
      "    return (i+1)*(j+4-i)\n",
      "\n",
      "# make 3x6 array where a[i,j] = myfunc(i,j):\n",
      "a = fromfunction(myfunc, (3,6))\n",
      "print a"
     ],
     "language": "python",
     "metadata": {},
     "outputs": []
    },
    {
     "cell_type": "heading",
     "level": 4,
     "metadata": {},
     "source": [
      "Array Indexing"
     ]
    },
    {
     "cell_type": "code",
     "collapsed": false,
     "input": [
      "a = np.linspace(-1, 1, 6)\n",
      "a[2:4] = -1        # set a[2] and a[3] equal to -1\n",
      "a[-1]  = a[0]      # set last element equal to first one\n",
      "a[:]   = 0         # set all elements of a equal to 0\n",
      "a.fill(0)          # set all elements of a equal to 0\n",
      "\n",
      "i = 1\n",
      "j = 2\n",
      "k = 2\n",
      "a.shape = (2,3)    # turn a into a 2x3 matrix\n",
      "print a[0,1]       # print element (0,1)\n",
      "a[i,j] = 10        # assignment to element (i,j)\n",
      "a[i][j] = 10       # equivalent syntax (slower)\n",
      "print a[:,k]       # print column with index k\n",
      "print a[1,:]       # print second row\n",
      "a[:,:] = 0         # set all elements of a equal to 0"
     ],
     "language": "python",
     "metadata": {},
     "outputs": []
    },
    {
     "cell_type": "code",
     "collapsed": false,
     "input": [
      "a = np.linspace(0, 29, 30)\n",
      "a.shape = (5,6)\n",
      "print a"
     ],
     "language": "python",
     "metadata": {},
     "outputs": []
    },
    {
     "cell_type": "code",
     "collapsed": false,
     "input": [
      "print a[1:3,:-1:2]   # a[i,j] for i=1,2 and j=0,2,4"
     ],
     "language": "python",
     "metadata": {},
     "outputs": []
    },
    {
     "cell_type": "code",
     "collapsed": false,
     "input": [
      "print a[::3,2:-1:2]   # a[i,j] for i=0,3 and j=2,4"
     ],
     "language": "python",
     "metadata": {},
     "outputs": []
    },
    {
     "cell_type": "heading",
     "level": 4,
     "metadata": {},
     "source": [
      "Array Slicing"
     ]
    },
    {
     "cell_type": "code",
     "collapsed": false,
     "input": [
      "from IPython.core.display import Image \n",
      "Image(filename='ArraySlicing.png') "
     ],
     "language": "python",
     "metadata": {},
     "outputs": [
      {
       "metadata": {},
       "output_type": "pyout",
       "png": "[encoded data removed]",
       "prompt_number": 5,
       "text": [
        "<IPython.core.display.Image at 0x1058d5490>"
       ]
      }
     ],
     "prompt_number": 5
    },
    {
     "cell_type": "markdown",
     "metadata": {},
     "source": [
      "Slices Refer the Array Data\n",
      "<UL>\n",
      "<LI> With a as list, a[:] makes a copy of the data\t\n",
      "<LI> With a as array, a[:] is a reference to the data\n",
      "</UL>"
     ]
    },
    {
     "cell_type": "code",
     "collapsed": false,
     "input": [
      "print a\n",
      "b = a[1,:]      # extract 2nd column of a\n",
      "print a[1,1]\n",
      "b[1] = 2\n",
      "print a[1,1]"
     ],
     "language": "python",
     "metadata": {},
     "outputs": []
    },
    {
     "cell_type": "code",
     "collapsed": false,
     "input": [
      "# Take a copy to avoid referencing via slices:\n",
      "b = a[1,:].copy()\n",
      "print a[1,1]\n",
      "b[1] = 7777     # b and a are two different arrays now\n",
      "print a[1,1]\n"
     ],
     "language": "python",
     "metadata": {},
     "outputs": []
    },
    {
     "cell_type": "heading",
     "level": 4,
     "metadata": {},
     "source": [
      "Array Computations"
     ]
    },
    {
     "cell_type": "code",
     "collapsed": false,
     "input": [
      "b = 3*a - 1    # a is array, b becomes array"
     ],
     "language": "python",
     "metadata": {},
     "outputs": []
    },
    {
     "cell_type": "markdown",
     "metadata": {},
     "source": [
      "The above operation generates a temporary array:\n",
      "<OL>\n",
      "<LI> tb = 3*a\n",
      "<LI> b = tb - 1\n",
      "</OL>\n",
      "As far as possible, we want to avoid the creation\n",
      "  of temporary arrays to limit the memory usage and\n",
      "  to decrease the computational time associated with\n",
      "  with array computations."
     ]
    },
    {
     "cell_type": "heading",
     "level": 4,
     "metadata": {},
     "source": [
      "In-Place Array Arithmetics"
     ]
    },
    {
     "cell_type": "code",
     "collapsed": false,
     "input": [
      "b = a\n",
      "b *= 3  # or multiply(b, 3, b)\n",
      "b -= 1  # or subtract(b, 1, b)"
     ],
     "language": "python",
     "metadata": {},
     "outputs": [],
     "prompt_number": 27
    },
    {
     "cell_type": "raw",
     "metadata": {},
     "source": [
      "In-place operations:\n",
      "    \n",
      "   a *= 3.0     # multiply a's elements by 3\n",
      "   a -= 1.0     # subtract 1 from each element\n",
      "   a /= 3.0     # divide each element by 3\n",
      "   a += 1.0     # add 1 to each element\n",
      "   a **= 2.0    # square all elements"
     ]
    },
    {
     "cell_type": "heading",
     "level": 4,
     "metadata": {},
     "source": [
      "Math Functions and Array Arguments"
     ]
    },
    {
     "cell_type": "raw",
     "metadata": {},
     "source": [
      "   # let b be an array\n",
      "   c = sin(b)    \n",
      "   c = arcsin(c) \n",
      "   c = sinh(b)\n",
      "   # same functions for the cos and tan families\n",
      "   c = b**2.5  # power function\n",
      "   c = log(b)\n",
      "   c = exp(b)\n",
      "   c = sqrt(b)\n",
      "    \n",
      "   # a is an array\n",
      "   a.clip(min=3, max=12)  \t# clip elements\n",
      "   a.mean(); mean(a)     \t# mean value\n",
      "   a.var();  var(a)       \t# variance\n",
      "   a.std();  std(a)        \t# standard deviation\n",
      "   median(a)\n",
      "   cov(x,y)              \t# covariance\n",
      "   trapz(a)              \t# Trapezoidal integration\n",
      "   diff(a)               \t# finite differences (da/dx)"
     ]
    },
    {
     "cell_type": "heading",
     "level": 4,
     "metadata": {},
     "source": [
      "NumPy Matrices"
     ]
    },
    {
     "cell_type": "code",
     "collapsed": false,
     "input": [
      "x1 = np.array([1, 2, 3], float)\n",
      "x2 = np.matrix(x)               # or just mat(x)\n",
      "print x2                        # row vector"
     ],
     "language": "python",
     "metadata": {},
     "outputs": []
    },
    {
     "cell_type": "code",
     "collapsed": false,
     "input": [
      "x3 = mat(x).transpose()          # column vector\n",
      "print x3\n",
      "type(x3)"
     ],
     "language": "python",
     "metadata": {},
     "outputs": []
    },
    {
     "cell_type": "code",
     "collapsed": false,
     "input": [
      "A = np.eye(10)                    # identity matrix\n",
      "print A\n",
      "B = np.mat(A)                    # turn array to matrix\n",
      "print B\n",
      "y2 = x2*B                     # vector-matrix product\n",
      "print y2\n",
      "y3 = B*x3                     # matrix-vector product\n",
      "print y3\n"
     ],
     "language": "python",
     "metadata": {},
     "outputs": []
    },
    {
     "cell_type": "code",
     "collapsed": false,
     "input": [
      "a = np.array([[1,2],[3,4]])\n",
      "print \"a = \", a\n",
      "m = np.mat(a)\n",
      "print \"m = \", m\n",
      "print \"a[0] = \", a[0]\n",
      "print \"m[0] = \", m[0]\n",
      "print \"a*a  = \", a*a\n",
      "print \"m*m  = \", m*m\n",
      "print \"dot  = \", dot(a, a)"
     ],
     "language": "python",
     "metadata": {},
     "outputs": []
    },
    {
     "cell_type": "heading",
     "level": 4,
     "metadata": {},
     "source": [
      "Universal Functions and Loops"
     ]
    },
    {
     "cell_type": "raw",
     "metadata": {},
     "source": [
      "Universal functions run much faster than for loops, which should be avoided whenever possible"
     ]
    },
    {
     "cell_type": "code",
     "collapsed": false,
     "input": [
      "def mult1(a,b):\n",
      "    return a * b\n",
      "\n",
      "def mult2(a,b):\n",
      "    c = np.empty(a.shape)\n",
      "    for i in range(a.shape[0]):\n",
      "        for j in range(a.shape[1]):\n",
      "            c[i,j] = a[i,j] * b[i,j]\n",
      "    return c"
     ],
     "language": "python",
     "metadata": {},
     "outputs": [],
     "prompt_number": 40
    },
    {
     "cell_type": "code",
     "collapsed": false,
     "input": [
      "a = np.random.random((800,800))\n",
      "b = np.random.random((800,800))"
     ],
     "language": "python",
     "metadata": {},
     "outputs": [],
     "prompt_number": 38
    },
    {
     "cell_type": "code",
     "collapsed": false,
     "input": [
      "timeit mult1(a,b)"
     ],
     "language": "python",
     "metadata": {},
     "outputs": []
    },
    {
     "cell_type": "code",
     "collapsed": false,
     "input": [
      "timeit mult2(a,b)"
     ],
     "language": "python",
     "metadata": {},
     "outputs": []
    },
    {
     "cell_type": "heading",
     "level": 2,
     "metadata": {},
     "source": [
      "Matplotlib\n",
      "\n",
      "\n"
     ]
    },
    {
     "cell_type": "heading",
     "level": 4,
     "metadata": {},
     "source": [
      "Simple Plot"
     ]
    },
    {
     "cell_type": "code",
     "collapsed": false,
     "input": [
      "import matplotlib.pylab as plt\n",
      "\n",
      "x = [2, 3, 5, 7, 11]\t\n",
      "y = [4, 9, 5, 9, 1]\t\n",
      "plt.plot(x, y)"
     ],
     "language": "python",
     "metadata": {},
     "outputs": []
    },
    {
     "cell_type": "heading",
     "level": 4,
     "metadata": {},
     "source": [
      "Useful Syntax"
     ]
    },
    {
     "cell_type": "raw",
     "metadata": {},
     "source": [
      "plot(x,y)\n",
      "xlabel('string')         # label the x-axis\n",
      "ylabel('string')         # label the y-axis\n",
      "title('string')          # write the title of the plot\n",
      "grid(true/false)         # adds grid boxes\n",
      "savefig('fileName.type') # type can be png, ps, pdf, etc\n",
      "show()                   # display the graph on the screen\n",
      "xlim(xmin,xmax)          # set/get the xlimits\n",
      "ylim(ymin,ymax)          # set/get the ylimits\n",
      "hold(True/False)         # to overlay figures on the same graph"
     ]
    },
    {
     "cell_type": "heading",
     "level": 4,
     "metadata": {},
     "source": [
      "Cosine Plot"
     ]
    },
    {
     "cell_type": "code",
     "collapsed": false,
     "input": [
      "import math\n",
      "\n",
      "t = np.arange(0.0, 1.0+0.01, 0.01)\n",
      "s = np.cos(2*2*math.pi*t)\n",
      "plt.plot(t, s)\n",
      "\n",
      "plt.xlabel('time (s)')\n",
      "plt.ylabel('voltage (mV)')\n",
      "plt.title('About as simple as it gets, folks')\n",
      "plt.grid(True)"
     ],
     "language": "python",
     "metadata": {},
     "outputs": []
    },
    {
     "cell_type": "heading",
     "level": 4,
     "metadata": {},
     "source": [
      "Add Legend"
     ]
    },
    {
     "cell_type": "code",
     "collapsed": false,
     "input": [
      "x = np.linspace(0, 2*np.pi, 300)\n",
      "y = np.sin(x)\n",
      "y2 = np.sin(x**2)\n",
      "plt.plot(x, y, label=r'$\\sin(x)$')\n",
      "plt.plot(x, y2, label=r'$\\sin(x^2)$')\n",
      "plt.title('Some functions')\n",
      "plt.xlabel('x')\n",
      "plt.ylabel('y')\n",
      "plt.grid()\n",
      "plt.legend(loc=0)"
     ],
     "language": "python",
     "metadata": {},
     "outputs": []
    },
    {
     "cell_type": "heading",
     "level": 4,
     "metadata": {},
     "source": [
      "Multiple Figures on the Same Plot"
     ]
    },
    {
     "cell_type": "code",
     "collapsed": false,
     "input": [
      "def f(t):\n",
      "    return np.exp(-t) * np.cos(2*np.pi*t)\n",
      "\n",
      "t1 = np.arange(0.0, 5.0, 0.1)\n",
      "t2 = np.arange(0.0, 5.0, 0.02)\n",
      "\n",
      "plt.figure(1)\n",
      "plt.subplot(211)\n",
      "plt.plot(t1, f(t1), 'bo', t2, f(t2), 'k')\n",
      "\n",
      "plt.subplot(212)\n",
      "plt.plot(t2, np.cos(2*np.pi*t2), 'r--')"
     ],
     "language": "python",
     "metadata": {},
     "outputs": []
    },
    {
     "cell_type": "heading",
     "level": 4,
     "metadata": {},
     "source": [
      "Annotating Text"
     ]
    },
    {
     "cell_type": "code",
     "collapsed": false,
     "input": [
      "ax = plt.subplot(111)\n",
      "t = np.arange(0.0, 5.0, 0.01)\n",
      "s = np.cos(2*np.pi*t)\n",
      "line, = plt.plot(t, s, lw=2)\n",
      "\n",
      "plt.annotate('local max', xy=(2, 1), \\\n",
      "        xytext=(3, 1.5), \\\n",
      "        arrowprops=dict(facecolor='black', \\\n",
      "        shrink=0.05), )\n",
      "\n",
      "plt.ylim(-2,2)"
     ],
     "language": "python",
     "metadata": {},
     "outputs": []
    },
    {
     "cell_type": "heading",
     "level": 4,
     "metadata": {},
     "source": [
      "Plot with Fill"
     ]
    },
    {
     "cell_type": "code",
     "collapsed": false,
     "input": [
      "t = np.arange(0.0, 1.01, 0.01)\n",
      "s = np.sin(2*2*np.pi*t)\n",
      "\n",
      "plt.fill(t, s*np.exp(-5*t), 'r')\n",
      "plt.grid(True)"
     ],
     "language": "python",
     "metadata": {},
     "outputs": []
    },
    {
     "cell_type": "heading",
     "level": 4,
     "metadata": {},
     "source": [
      "Histogram"
     ]
    },
    {
     "cell_type": "code",
     "collapsed": false,
     "input": [
      "mu, sigma = 100, 15\n",
      "x = mu + sigma * np.random.randn(10000)\n",
      "\n",
      "# the histogram of the data\n",
      "n, bins, patches = plt.hist(x, 50, normed=1, \\\n",
      "                       facecolor='g', alpha=0.75)\n",
      "\n",
      "plt.xlabel('Smarts')\n",
      "plt.ylabel('Probability')\n",
      "plt.title('Histogram of IQ')\n",
      "plt.text(60, .025, r'$\\mu=100,\\ \\sigma=\\frac{1}{\\sqrt{15}}$')\n",
      "plt.axis([40, 160, 0, 0.03])\n",
      "plt.grid(True)"
     ],
     "language": "python",
     "metadata": {},
     "outputs": []
    },
    {
     "cell_type": "heading",
     "level": 4,
     "metadata": {},
     "source": [
      "Log Plot"
     ]
    },
    {
     "cell_type": "code",
     "collapsed": false,
     "input": [
      "plt.subplots_adjust(hspace=0.4)\n",
      "t = np.arange(0.01, 20.0, 0.01)\n",
      "\n",
      "# log y axis\n",
      "plt.subplot(221)\n",
      "plt.semilogy(t, np.exp(-t/5.0))\n",
      "plt.title('semilogy')\n",
      "plt.grid(True)\n",
      "\n",
      "# log x axis\n",
      "plt.subplot(222)\n",
      "plt.semilogx(t, np.sin(2*np.pi*t))\n",
      "plt.title('semilogx')\n",
      "plt.grid(True)\n",
      "\n",
      "# log x and y axis\n",
      "plt.subplot(223)\n",
      "plt.loglog(t, 20*np.exp(-t/10.0), basex=2)\n",
      "plt.grid(True)\n",
      "plt.title('loglog base 4 on x')\n",
      "\n",
      "# with errorbars: clip non-positive values\n",
      "ax = plt.subplot(224)\n",
      "ax.set_xscale(\"log\", nonposx='clip')\n",
      "ax.set_yscale(\"log\", nonposy='clip')\n",
      "\n",
      "x = 10.0**np.linspace(0.0, 2.0, 20)\n",
      "y = x**2.0\n",
      "plt.errorbar(x, y, xerr=0.1*x, yerr=5.0+0.75*y)\n",
      "ax.set_ylim(ymin=0.1)\n",
      "ax.set_title('Errorbars go negative')\n"
     ],
     "language": "python",
     "metadata": {},
     "outputs": []
    },
    {
     "cell_type": "heading",
     "level": 4,
     "metadata": {},
     "source": [
      "Pie Chart"
     ]
    },
    {
     "cell_type": "code",
     "collapsed": false,
     "input": [
      "# make a square figure and axes\n",
      "fig = plt.figure(1, figsize=(6,6))\n",
      "ax = fig.add_axes([0.1, 0.1, 0.8, 0.8])\n",
      "labels = 'Frogs', 'Hogs', 'Dogs', 'Logs'\n",
      "fracs = [15,30,45, 10]\n",
      "explode=(0, 0.1, 0, 0)\n",
      "ax.pie(fracs, explode=explode, labels=labels, autopct='%1.1f%%', shadow=True)\n",
      "ax.set_title('Raining Hogs and Dogs', bbox={'facecolor':'0.9', 'pad':15})"
     ],
     "language": "python",
     "metadata": {},
     "outputs": []
    },
    {
     "cell_type": "heading",
     "level": 4,
     "metadata": {},
     "source": [
      "Contour Plot and Colorbar"
     ]
    },
    {
     "cell_type": "code",
     "collapsed": false,
     "input": [
      "from pylab import *\n",
      "delta = 0.01\n",
      "x = arange(-3.0, 3.0, delta)\n",
      "y = arange(-3.0, 3.0, delta)\n",
      "X,Y = meshgrid(x, y)\n",
      "Z1 = bivariate_normal(X, Y, 1.0, 1.0, 0.0, 0.0)\n",
      "Z2 = bivariate_normal(X, Y, 1.5, 0.5, 1, 1)\n",
      "Z = Z2 - Z1 # difference of Gaussians\n",
      "\n",
      "cmap = cm.get_cmap('jet', 10)    # 10 discrete colors\n",
      "\n",
      "im = imshow(Z, cmap=cmap, interpolation='bilinear')\n",
      "axis('off')\n",
      "colorbar()\n"
     ],
     "language": "python",
     "metadata": {},
     "outputs": []
    },
    {
     "cell_type": "heading",
     "level": 4,
     "metadata": {},
     "source": [
      "Scatter Plot"
     ]
    },
    {
     "cell_type": "code",
     "collapsed": false,
     "input": [
      "from numpy import random\n",
      "\n",
      "random.seed(0)\n",
      "mu_1 = random.randn(2)\n",
      "sigma_1 = random.randn()\n",
      "x_1 = (random.randn(1000)*sigma_1)+mu_1[0]\n",
      "y_1 = (random.randn(1000)*sigma_1)+mu_1[1]\n",
      "\n",
      "mu_2 = random.randn(2)\n",
      "sigma_2 = random.randn()\n",
      "x_2 = (random.randn(1000)*sigma_2)+mu_2[0]\n",
      "y_2 = (random.randn(1000)*sigma_2)+mu_2[1]\n",
      "\n",
      "fig = plt.figure()\n",
      "ax = fig.add_subplot(1,1,1)\n",
      "ax.scatter(x_1,y_1,color='r',edgecolor='k',alpha=0.25)\n",
      "ax.scatter(x_2,y_2,color='b',edgecolor='k',alpha=0.25)"
     ],
     "language": "python",
     "metadata": {},
     "outputs": []
    },
    {
     "cell_type": "heading",
     "level": 2,
     "metadata": {},
     "source": [
      "Breakout Session: Applications in Earth Science and Space Science"
     ]
    },
    {
     "cell_type": "markdown",
     "metadata": {},
     "source": [
      "<OL>\n",
      "<LI> <b> Earth Science </b>\n",
      "     <UL>\n",
      "     <LI> We want to reproduce the Global Land-Ocean Temperature Index plot available at this <A HREF=\"http://data.giss.nasa.gov/gistemp/graphs_v3/\"> GISS website</A>\n",
      "          <OL>\n",
      "          <LI> Obtain the temperature anomaly data from the <A HREF=\"http://data.giss.nasa.gov/gistemp/graphs_v3/Fig.A2.txt\">link</A> and save it in a file. Note that there are missing data.\n",
      "          <LI> Write a function that read the file and populate the three lists <b>years</b>, <b>annualMeanTemp</b> and <b>fiveYearMean</b>. Find ways to take into account the missing values while filling <b>annualMeanTemp</b> and <b>fiveYearMean</b>.\n",
      "          <LI> Convert the three lists into Numpy arrays and create masks to identify the missing data.\n",
      "          <LI> Use Matplotlib to plot the data.\n",
      "          </OL>\n",
      "     </UL>\n",
      "<LI> <b> Animation to Visualize Dynamic Data </b>\n",
      "     <UL>\n",
      "     <LI> We want to continually plot y = sin(&pi; x) where x is a set of random numbers in [-2,3]. The values of x change with time.\n",
      "         <OL>\n",
      "         <LI> Write a function that randomly generates N=200 numbers (uniformly distributed) between -2 and 3, pass the numbers to the Numpy array x, and returns x and y = sin(&pi; x).\n",
      "         <LI> Use the Matplotlib animation module to continually use the above function to plot y = sin(&pi; x).\n",
      "         </OL>\n",
      "     </UL>\n",
      "     \n",
      "</OL>"
     ]
    },
    {
     "cell_type": "code",
     "collapsed": false,
     "input": [],
     "language": "python",
     "metadata": {},
     "outputs": []
    }
   ],
   "metadata": {}
  }
 ]
}