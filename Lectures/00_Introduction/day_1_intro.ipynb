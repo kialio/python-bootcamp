{
 "metadata": {
  "celltoolbar": "Slideshow",
  "name": "",
  "signature": "sha256:b1b6e1a46e2ed62f91ee40edb6fda26d8a0e1b195768da68ef4e08a6e0cb3ae9"
 },
 "nbformat": 3,
 "nbformat_minor": 0,
 "worksheets": [
  {
   "cells": [
    {
     "cell_type": "markdown",
     "metadata": {
      "slideshow": {
       "slide_type": "slide"
      }
     },
     "source": [
      "# Welcome to the GSFC Python Boot Camp 2014\n",
      "\n",
      "\n",
      "![NASA and Python Logo](https://raw.githubusercontent.com/kialio/python-bootcamp/master/Lectures/00_Introduction/Python_and_NASA_logos.gif)\n"
     ]
    },
    {
     "cell_type": "markdown",
     "metadata": {
      "slideshow": {
       "slide_type": "slide"
      }
     },
     "source": [
      "# Objectives\n",
      "* Introduce you to the Python language\n",
      "* Get you writing Python code. Build Python hacking muscle memory\n",
      "* Convince you of its utility in your research life\n",
      "* Instill good coding and curation practices\n",
      "* We try not to proselytize, but sometimes it\u2019s too hard to resist\n",
      "* This talk is a sacrificial talk designed to make sure you are ready to go."
     ]
    },
    {
     "cell_type": "markdown",
     "metadata": {
      "slideshow": {
       "slide_type": "slide"
      }
     },
     "source": [
      "# Organization\n",
      "\n",
      "* 3 days of modules (~1 hour) lectures + demos\n",
      "    * http://asd.gsfc.nasa.gov/conferences/pythonbootcamp/2014/agenda/\n",
      "* Breakout coding sessions (supervised) after each module\n",
      "* Caffeine provided (if you paid $3), Quick lunch on your own\n",
      "* Homework (small code projects)\n",
      "* Blood, sweat, tears \u2192 a more productive you"
     ]
    },
    {
     "cell_type": "markdown",
     "metadata": {
      "slideshow": {
       "slide_type": "slide"
      }
     },
     "source": [
      "# Connecting To Us\n",
      "* Ask us a question (in person!)\n",
      "* GSFC Python Users: https://lists.nasa.gov/mailman/listinfo/gsfc-python-users\n",
      "* Python Boot Camp Volunteers: pythonbootcamp@bigbang.gsfc.nasa.gov\n",
      "* Twitter: #gsfcpyboot\n",
      "\n",
      "## We'll try and respond to things throughout the week and beyond"
     ]
    },
    {
     "cell_type": "markdown",
     "metadata": {
      "slideshow": {
       "slide_type": "slide"
      }
     },
     "source": [
      "# Who We Are\n",
      "\n",
      "<table style=\"border-color: white;\">\n",
      "    <tr style=\"border-color: white;\">\n",
      "    <td style=\"border-color: white;\">![NASA ID](https://id.nasa.gov/uss/assets/images/id_nasa_gov-logo_98x98.png)</td>\n",
      "    <td style=\"border-color: white;\"><font size=20>id.nasa.gov</font></td>\n",
      "    </tr>\n",
      "</table>\n",
      "\n",
      "* *First of all, we are all volunteers, second of all, we might not know what we are doing (I certainly don't).*\n",
      "* Some of us are experts and some of us aren't, we just like using python.\n",
      "* We are (in no particular order) programmers, scientists, post-docs and graduate students.\n",
      "* I started doing this so I could learn more about python (I'm not sure why the others are doing it).\n",
      "\n",
      "<table style=\"border-color: white;\">\n",
      "    <tr style=\"border-color: white;\">\n",
      "        <td style=\"border-color: white;\">Terri Brandt - GSFC, Code 661</td>\n",
      "        <td style=\"border-color: white;\">Brad Cenko - GSFC, Code 661</td>\n",
      "    </tr>\n",
      "    <tr style=\"border-color: white;\">\n",
      "        <td style=\"border-color: white;\">Jamie Cohen - GSFC, Code 661</td>\n",
      "        <td style=\"border-color: white;\">Antonino Cucchiara - GSFC, Code 661</td>\n",
      "    </tr>\n",
      "    <tr style=\"border-color: white;\">\n",
      "        <td style=\"border-color: white;\">John David - GSFC, Code 610</td>\n",
      "        <td style=\"border-color: white;\">Dave Davis - GSFC, Code 661</td>\n",
      "    </tr>\n",
      "    <tr style=\"border-color: white;\">\n",
      "        <td style=\"border-color: white;\">Joey Gurganus - GSFC, Code 583</td>\n",
      "        <td style=\"border-color: white;\">Jack Hewitt - GSFC, Code 661</td>\n",
      "    </tr>\n",
      "    <tr style=\"border-color: white;\">\n",
      "        <td style=\"border-color: white;\">Jules Kouatchou - GSFC, Code 610</td>\n",
      "        <td style=\"border-color: white;\">Justin Lazear - GSFC, Code 665</td>\n",
      "    </tr>\n",
      "    <tr style=\"border-color: white;\">\n",
      "        <td style=\"border-color: white;\">Thomas Meyer - University of Connecticut</td>\n",
      "        <td style=\"border-color: white;\">Dave Olson - GSFC, Code 673</td>\n",
      "    </tr>\n",
      "    <tr style=\"border-color: white;\">\n",
      "        <td style=\"border-color: white;\">Jeremy Perkins - GSFC, Code 661 (@oldmanperkins)</td>\n",
      "        <td style=\"border-color: white;\">Andy Ptak - GSFC, Code 662</td>\n",
      "    </tr>\n",
      "    <tr style=\"border-color: white;\">\n",
      "        <td style=\"border-color: white;\">Andrey Timokhin - GSFC, Code 660</td>\n",
      "        <td style=\"border-color: white;\">Toni Venters - GSFC, Code 661</td>\n",
      "    </tr>\n",
      "    <tr style=\"border-color: white;\">\n",
      "        <td style=\"border-color: white;\">Steve Waterbury - GSFC, Code 585</td>\n",
      "        <td style=\"border-color: white;\">Eric Winter - GSFC, Code 606</td>\n",
      "    </tr>\n",
      "    <tr style=\"border-color: white;\">\n",
      "        <td style=\"border-color: white;\">Sylvia Zhu - GSFC, Code 661</td>\n",
      "        <td style=\"border-color: white;\">John Zuhone - GSFC, Code 662 (@astrojaz)</td>\n",
      "    </tr>\n",
      "</table>\n"
     ]
    },
    {
     "cell_type": "markdown",
     "metadata": {
      "slideshow": {
       "slide_type": "slide"
      }
     },
     "source": [
      "# Introduction\n",
      "* What is Python?\n",
      "* Why Python?\n",
      "* Getting Started..."
     ]
    },
    {
     "cell_type": "markdown",
     "metadata": {
      "slideshow": {
       "slide_type": "subslide"
      }
     },
     "source": [
      "# What is Python?\n",
      "\n",
      ">Python is an interpreted, object-oriented, high-level programming language with dynamic semantics. Its high-level built in data structures, combined with dynamic typing and dynamic binding, make it very attractive for Rapid Application Development, as well as for use as a scripting or glue language to connect existing components together. Python's simple, easy to learn syntax emphasizes readability and therefore reduces the cost of program maintenance. Python supports modules and packages, which encourages program modularity and code reuse. The Python interpreter and the extensive standard library are available in source or binary form without charge for all major platforms, and can be freely distributed.\n",
      "\n",
      "https://www.python.org/doc/essays/blurb/"
     ]
    },
    {
     "cell_type": "markdown",
     "metadata": {
      "slideshow": {
       "slide_type": "subslide"
      }
     },
     "source": [
      "# What is Python?\n",
      "<table>\n",
      "    <tr style=\"border-color: white;\">\n",
      "        <td style=\"border-color: white;\">interpreted</td>\n",
      "        <td style=\"border-color: white;\">no need for a compiling stage</td>\n",
      "    </tr>\n",
      "    <tr style=\"background-color: #D8D8D8; border-color: white;\">\n",
      "        <td style=\"border-color: white;\">object-oriented</td>\n",
      "        <td style=\"border-color: white;\">programming paradigm that uses objects (complex data structures with methods)</td>\n",
      "    </tr>\n",
      "    <tr style=\"border-color: white;\">\n",
      "        <td style=\"border-color: white;\">high level</td>\n",
      "        <td style=\"border-color: white;\">abstraction from the way machine interprets & executes</td>\n",
      "    </tr>\n",
      "    <tr style=\"background-color: #D8D8D8; border-color: white;\">\n",
      "        <td style=\"border-color: white;\">dynamic semantics</td>\n",
      "        <td style=\"border-color: white;\">can change meaning on-the-fly</td>\n",
      "    </tr>\n",
      "    <tr style=\"border-color: white;\">\n",
      "        <td style=\"border-color: white;\">built in</td>\n",
      "        <td style=\"border-color: white;\">core language (not external)</td>\n",
      "    </tr>\n",
      "    <tr style=\"background-color: #D8D8D8; border-color: white;\">\n",
      "        <td style=\"border-color: white;\">data structures</td>\n",
      "        <td style=\"border-color: white;\">ways of storing/manipulating data</td>\n",
      "    </tr>\n",
      "    <tr style=\"border-color: white;\">\n",
      "        <td style=\"border-color: white;\">script/glue</td>\n",
      "        <td style=\"border-color: white;\">programs that control other programs</td>\n",
      "    </tr>\n",
      "    <tr style=\"background-color: #D8D8D8; border-color: white;\">\n",
      "        <td style=\"border-color: white;\">typing</td>\n",
      "        <td style=\"border-color: white;\">the sort of variable (int, string)</td>\n",
      "    </tr>\n",
      "    <tr style=\"border-color: white;\">\n",
      "        <td style=\"border-color: white;\">syntax</td>\n",
      "        <td style=\"border-color: white;\">grammar which defines the language</td>\n",
      "    </tr>\n",
      "    <tr style=\"background-color: #D8D8D8; border-color: white;\">\n",
      "        <td style=\"border-color: white;\">library</td>\n",
      "        <td style=\"border-color: white;\">reusable collection of code</td>\n",
      "    </tr>\n",
      "    <tr style=\"border-color: white;\">\n",
      "        <td style=\"border-color: white;\">binary</td>\n",
      "        <td style=\"border-color: white;\">a file that you can run/execute</td>\n",
      "    </tr>\n",
      "</table>"
     ]
    },
    {
     "cell_type": "markdown",
     "metadata": {
      "slideshow": {
       "slide_type": "subslide"
      }
     },
     "source": [
      "# Development History\n",
      "\n",
      "<table>\n",
      "    <tr style=\"border-color: white;\">\n",
      "    <td style=\"border-color: white;\"><img src=\"https://www.python.org/~guido/images/IMG_2192.jpg\"/>\n",
      "    </td>\n",
      "    <td style=\"border-color: white;\">\n",
      "        <ul>\n",
      "            <li>started over the Christmas break 1989, by Guido van Rossum (now at Dropbox)\n",
      "            <li>developed in the early 1990s\n",
      "            <li>name comes from Monty Python\u2019s Flying Circus\n",
      "            <li>Guido is the Benevolent Dictator for Life (BDFL), meaning that he continues to oversee Python\u2019s development.\n",
      "        </ul>\n",
      "    </td>\n",
      "    </tr>\n",
      "</table>"
     ]
    },
    {
     "cell_type": "markdown",
     "metadata": {
      "slideshow": {
       "slide_type": "subslide"
      }
     },
     "source": [
      "# Development History\n",
      "\n",
      "* Open-sourced development from the start (BSD licensed now)\n",
      "    * http://www.opensource.org/licenses/bsd-license.php\n",
      "* Relies on large community input (bugs, patches) and 3rd party add-on software\n",
      "* Version 2.0 (2000), 2.6 (2008), 2.7 (2010). \n",
      "* We\u2019re using 2.7.X in this class\n",
      "* Version 3.X (2008) is not backward compatible with 1.X & 2.X. But 2.7 code is \u201ceasily\u201d migrated to 3.X"
     ]
    },
    {
     "cell_type": "markdown",
     "metadata": {
      "slideshow": {
       "slide_type": "subslide"
      }
     },
     "source": [
      "# Why Python \n",
      "## Some of the Alternatives\n",
      "I've used almost all of these at some point\n",
      "### C, C++, Fortran\n",
      "*Pros: great performance, backbone of legacy scientific computing codes*\n",
      "\n",
      "`Cons: syntax not optimized for causal programming, no interactive facilities, difficult visualization, text processing, etc. `\n",
      "\n",
      "### Mathmatica, Maple, Matlab, IDL\n",
      "*Pros: interactive, great visuals, extensive libraries*\n",
      "\n",
      "`Cons: costly, proprietary, unpleasant for large-scale programs and non-mathematical tasks.`\n",
      "\n",
      "### Perl\n",
      "http://strombergers.com/python/"
     ]
    },
    {
     "cell_type": "markdown",
     "metadata": {
      "slideshow": {
       "slide_type": "subslide"
      }
     },
     "source": [
      "# Why Python\n",
      "* **Free** (BSD license), highly portable (Linux, OSX, Windows, lots...)\n",
      "* **Interactive** interpreter provided.\n",
      "* Extremely readable syntax (**\u201cexecutable pseudo-code\u201d**). \n",
      "* **Simple**: non-professional programmers can use it effectively\n",
      "    * great documentation\n",
      "    * total abstraction of memory management \n",
      "* Clean object-oriented model, but **not mandatory**.\n",
      "* Rich built-in types: lists, sets, dictionaries (hash tables), strings, ... \n",
      "* Very comprehensive standard library (**batteries included**) \n",
      "* Standard libraries for IDL/Matlab-like arrays (NumPy)\n",
      "* Easy to wrap existing C, C++ and FORTRAN codes."
     ]
    },
    {
     "cell_type": "markdown",
     "metadata": {
      "slideshow": {
       "slide_type": "subslide"
      }
     },
     "source": [
      "#Why Python\n",
      "## Amazingly Scalable\n",
      "* Interactive experimentation \n",
      "* build small, self-contained scripts or million-lines projects. \n",
      "* From occasional/novice to full-time use (try that with C++). \n",
      "## The Kitchen Sink (in a good way)\n",
      "* really can do anything you want, with impressive simplicity\n",
      "## Performance, if you need it\n",
      "* As an interpreted language, Python is slow.\n",
      "* But...if you need speed you can do the heavy lifting in C or FORTRAN <br/>...or you can use a Python compiler (e.g., Cython) "
     ]
    },
    {
     "cell_type": "code",
     "collapsed": false,
     "input": [],
     "language": "python",
     "metadata": {},
     "outputs": []
    }
   ],
   "metadata": {}
  }
 ]
}