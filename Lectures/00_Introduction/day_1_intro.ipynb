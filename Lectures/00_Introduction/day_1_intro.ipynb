{
 "metadata": {
  "celltoolbar": "Slideshow",
  "name": "",
  "signature": "sha256:e937777db432e708211458b305975f1e343359c4b213ea299d9ef0163ff119ae"
 },
 "nbformat": 3,
 "nbformat_minor": 0,
 "worksheets": [
  {
   "cells": [
    {
     "cell_type": "markdown",
     "metadata": {},
     "source": [
      "# Welcome to the GSFC Python Boot Camp 2014\n",
      "\n",
      "\n",
      "![NASA Meatball](http://open.nasa.gov/wp-content/themes/landaureece-Protean-9912ff7/images/meatball.png)\n"
     ]
    },
    {
     "cell_type": "code",
     "collapsed": false,
     "input": [],
     "language": "python",
     "metadata": {},
     "outputs": []
    }
   ],
   "metadata": {}
  }
 ]
}